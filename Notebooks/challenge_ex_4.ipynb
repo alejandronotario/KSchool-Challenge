
{
 "cells": [
  {
   "cell_type": "markdown",
   "metadata": {},
   "source": [
    "# ejercicio 4"
   ]
  },
  {
   "cell_type": "code",
   "execution_count": 1,
   "metadata": {
    "collapsed": false,
    "scrolled": true
   },
   "outputs": [
    {
     "name": "stdout",
     "output_type": "stream",
     "text": [
      "/home/dsc/Data/challenge\n"
     ]
    }
   ],
   "source": [
    "cd ~/Data/challenge/\n"
   ]
  },
  {
   "cell_type": "markdown",
   "metadata": {},
   "source": [
    "### en este ejercicio es muy importante localizar los dupicados y drop duplicated"
   ]
  },
  {
   "cell_type": "markdown",
   "metadata": {},
   "source": [
    "### vamos a generar 2 archivos para bookings y searches en formato csv y luego a .bz2"
   ]
  },
  {
   "cell_type": "code",
   "execution_count": 2,
   "metadata": {
    "collapsed": true
   },
   "outputs": [],
   "source": [
    "import pandas as pd"
   ]
  },
  {
   "cell_type": "code",
   "execution_count": 3,
   "metadata": {
    "collapsed": true
   },
   "outputs": [],
   "source": [
    "bc = pd.read_csv ('bookings.csv.bz2', sep ='^', chunksize = 300000, low_memory = False)"
   ]
  },
  {
   "cell_type": "code",
   "execution_count": 6,
   "metadata": {
    "collapsed": false,
    "scrolled": false
   },
   "outputs": [
    {
     "name": "stdout",
     "output_type": "stream",
     "text": [
      "Chunk 1, keeping 300000 lines\n",
      "Chunk 2, keeping 600000 lines\n",
      "Chunk 3, keeping 900000 lines\n",
      "Chunk 4, keeping 1000000 lines\n",
      "Chunk 5, keeping 1000000 lines\n",
      "Chunk 6, keeping 1000000 lines\n",
      "Chunk 7, keeping 1000000 lines\n",
      "Chunk 8, keeping 1000000 lines\n",
      "Chunk 9, keeping 1000000 lines\n",
      "Chunk 10, keeping 1000000 lines\n",
      "Chunk 11, keeping 1000000 lines\n",
      "Chunk 12, keeping 1000000 lines\n",
      "Chunk 13, keeping 1000000 lines\n",
      "Chunk 14, keeping 1000000 lines\n",
      "Chunk 15, keeping 1000000 lines\n",
      "Chunk 16, keeping 1000000 lines\n",
      "Chunk 17, keeping 1299993 lines\n",
      "Chunk 18, keeping 1299993 lines\n",
      "Chunk 19, keeping 1299993 lines\n",
      "Chunk 20, keeping 1299993 lines\n",
      "Chunk 21, keeping 1299993 lines\n",
      "Chunk 22, keeping 1299993 lines\n",
      "Chunk 23, keeping 1299993 lines\n",
      "Chunk 24, keeping 1299993 lines\n",
      "Chunk 25, keeping 1299993 lines\n",
      "Chunk 26, keeping 1299993 lines\n",
      "Chunk 27, keeping 1299993 lines\n",
      "Chunk 28, keeping 1299993 lines\n",
      "Chunk 29, keeping 1299993 lines\n",
      "Chunk 30, keeping 1299993 lines\n",
      "Chunk 31, keeping 1299993 lines\n",
      "Chunk 32, keeping 1299993 lines\n",
      "Chunk 33, keeping 1299993 lines\n",
      "Chunk 34, keeping 1299993 lines\n"
     ]
    }
   ],
   "source": [
    "bc = pd.read_csv ('bookings.csv.bz2', sep ='^', chunksize = 300000, low_memory = False)\n",
    "all_chunks = pd.DataFrame()\n",
    "for i, chunk in enumerate (bc):\n",
    "    all_chunks=all_chunks.append (chunk)\n",
    "    all_chunks= all_chunks.drop_duplicates()\n",
    "    print \"Chunk %d, keeping %d lines\" % ((i+1), len (all_chunks))"
   ]
  },
  {
   "cell_type": "code",
   "execution_count": 7,
   "metadata": {
    "collapsed": true
   },
   "outputs": [],
   "source": [
    "all_chunks.to_csv ('bookings.no_dup.csv', sep = '^', index = False)\n",
    "!bzip2 -f bookings.no_dup.csv"
   ]
  },
  {
   "cell_type": "code",
   "execution_count": 9,
   "metadata": {
    "collapsed": false
   },
   "outputs": [
    {
     "name": "stdout",
     "output_type": "stream",
     "text": [
      "total 1089832\r\n",
      "-rw-rw-r-- 1 dsc dsc 554970628 Jan  4  2016 bookings.csv.bz2\r\n",
      "-rw-rw-r-- 1 dsc dsc  72211641 May 20 12:45 bookings.no_dup.csv.bz2\r\n",
      "-rw-rw-r-- 1 dsc dsc     54834 May 19 17:40 bookings.sample.csv.bz2\r\n",
      "-rw-rw-r-- 1 dsc dsc    425006 May 19 17:45 bookings.sample.csv.csv\r\n",
      "-rw-rw-r-- 1 dsc dsc 483188920 Jan  4  2016 searches.csv.bz2\r\n",
      "-rw-rw-r-- 1 dsc dsc   4811806 May 20 10:50 searches.sample2.csv.bz2\r\n",
      "-rw-rw-r-- 1 dsc dsc     29366 May 20 10:46 searches.sample.csv.bz2\r\n",
      "-rw-rw-r-- 1 dsc dsc    181739 May 19 17:45 searches.sample.csv.csv\r\n",
      "-rw-rw-r-- 1 dsc dsc     84696 May 19 20:56 top_10_airports.csv\r\n"
     ]
    }
   ],
   "source": [
    "!ls -l"
   ]
  },
  {
   "cell_type": "code",
   "execution_count": 8,
   "metadata": {
    "collapsed": false
   },
   "outputs": [
    {
     "name": "stdout",
     "output_type": "stream",
     "text": [
      "Chunk 1, keeping 299999 lines\n",
      "Chunk 2, keeping 358999 lines\n",
      "Chunk 3, keeping 358999 lines\n",
      "Chunk 4, keeping 358999 lines\n",
      "Chunk 5, keeping 658992 lines\n",
      "Chunk 6, keeping 718002 lines\n",
      "Chunk 7, keeping 718002 lines\n",
      "Chunk 8, keeping 718002 lines\n",
      "Chunk 9, keeping 718002 lines\n",
      "Chunk 10, keeping 718002 lines\n",
      "Chunk 11, keeping 718002 lines\n",
      "Chunk 12, keeping 718002 lines\n",
      "Chunk 13, keeping 718002 lines\n",
      "Chunk 14, keeping 718002 lines\n",
      "Chunk 15, keeping 718002 lines\n",
      "Chunk 16, keeping 718002 lines\n",
      "Chunk 17, keeping 718002 lines\n",
      "Chunk 18, keeping 718002 lines\n",
      "Chunk 19, keeping 718002 lines\n",
      "Chunk 20, keeping 718002 lines\n",
      "Chunk 21, keeping 718002 lines\n",
      "Chunk 22, keeping 718002 lines\n",
      "Chunk 23, keeping 718002 lines\n",
      "Chunk 24, keeping 718002 lines\n",
      "Chunk 25, keeping 718002 lines\n",
      "Chunk 26, keeping 718002 lines\n",
      "Chunk 27, keeping 718002 lines\n",
      "Chunk 28, keeping 718002 lines\n",
      "Chunk 29, keeping 718002 lines\n",
      "Chunk 30, keeping 718002 lines\n",
      "Chunk 31, keeping 718002 lines\n",
      "Chunk 32, keeping 718002 lines\n",
      "Chunk 33, keeping 718002 lines\n",
      "Chunk 34, keeping 718002 lines\n",
      "Chunk 35, keeping 718002 lines\n",
      "Chunk 36, keeping 718002 lines\n",
      "Chunk 37, keeping 718002 lines\n",
      "Chunk 38, keeping 718002 lines\n",
      "Chunk 39, keeping 718002 lines\n",
      "Chunk 40, keeping 718002 lines\n",
      "Chunk 41, keeping 718002 lines\n",
      "Chunk 42, keeping 718002 lines\n",
      "Chunk 43, keeping 718002 lines\n",
      "Chunk 44, keeping 718002 lines\n",
      "Chunk 45, keeping 718002 lines\n",
      "Chunk 46, keeping 718002 lines\n",
      "Chunk 47, keeping 718002 lines\n",
      "Chunk 48, keeping 718002 lines\n",
      "Chunk 49, keeping 718002 lines\n",
      "Chunk 50, keeping 718002 lines\n",
      "Chunk 51, keeping 718002 lines\n",
      "Chunk 52, keeping 718002 lines\n",
      "Chunk 53, keeping 718002 lines\n",
      "Chunk 54, keeping 718002 lines\n",
      "Chunk 55, keeping 718002 lines\n",
      "Chunk 56, keeping 718002 lines\n",
      "Chunk 57, keeping 718002 lines\n",
      "Chunk 58, keeping 718002 lines\n",
      "Chunk 59, keeping 718002 lines\n",
      "Chunk 60, keeping 718002 lines\n",
      "Chunk 61, keeping 718002 lines\n",
      "Chunk 62, keeping 718002 lines\n",
      "Chunk 63, keeping 718002 lines\n",
      "Chunk 64, keeping 718002 lines\n",
      "Chunk 65, keeping 718002 lines\n",
      "Chunk 66, keeping 718002 lines\n",
      "Chunk 67, keeping 718002 lines\n",
      "Chunk 68, keeping 718003 lines\n"
     ]
    }
   ],
   "source": [
    "sc = pd.read_csv ('searches.csv.bz2', sep ='^', chunksize = 300000, low_memory = False)\n",
    "all_chunks = pd.DataFrame()\n",
    "for i, chunk in enumerate (sc):\n",
    "    all_chunks=all_chunks.append (chunk)\n",
    "    all_chunks= all_chunks.drop_duplicates()\n",
    "    print \"Chunk %d, keeping %d lines\" % ((i+1), len (all_chunks))"
   ]
  },
  {
   "cell_type": "code",
   "execution_count": 10,
   "metadata": {
    "collapsed": true
   },
   "outputs": [],
   "source": [
    "all_chunks.to_csv ('searches.no_dup.csv', sep = '^', index = False)\n",
    "!bzip2 -f searches.no_dup.csv"
   ]
  },
  {
   "cell_type": "code",
   "execution_count": 11,
   "metadata": {
    "collapsed": false,
    "scrolled": true
   },
   "outputs": [
    {
     "name": "stdout",
     "output_type": "stream",
     "text": [
      "total 1106544\r\n",
      "-rw-rw-r-- 1 dsc dsc 554970628 Jan  4  2016 bookings.csv.bz2\r\n",
      "-rw-rw-r-- 1 dsc dsc  72211641 May 20 12:45 bookings.no_dup.csv.bz2\r\n",
      "-rw-rw-r-- 1 dsc dsc     54834 May 19 17:40 bookings.sample.csv.bz2\r\n",
      "-rw-rw-r-- 1 dsc dsc    425006 May 19 17:45 bookings.sample.csv.csv\r\n",
      "-rw-rw-r-- 1 dsc dsc 483188920 Jan  4  2016 searches.csv.bz2\r\n",
      "-rw-rw-r-- 1 dsc dsc  17112287 May 20 12:55 searches.no_dup.csv.bz2\r\n",
      "-rw-rw-r-- 1 dsc dsc   4811806 May 20 10:50 searches.sample2.csv.bz2\r\n",
      "-rw-rw-r-- 1 dsc dsc     29366 May 20 10:46 searches.sample.csv.bz2\r\n",
      "-rw-rw-r-- 1 dsc dsc    181739 May 19 17:45 searches.sample.csv.csv\r\n",
      "-rw-rw-r-- 1 dsc dsc     84696 May 19 20:56 top_10_airports.csv\r\n"
     ]
    }
   ],
   "source": [
    "!ls -l"
   ]
  },
  {
   "cell_type": "markdown",
   "metadata": {},
   "source": [
    "### plan a seguir:\n",
    "\n",
    "1. columnas a utilizar\n",
    "    1. bookings: vamos a usar [act_date, dep_port, arr_port]\n",
    "    2. searches: vamos a usar [search_date, origin, destination]\n",
    "2. pasar dates de string a datetime object\n",
    "3. borrar los espacios en blanco (from column names and content)\n",
    "4. quitar los NaN\n",
    "5. vamos a hacer un merge con bookings y searches ->put l if search_date , O&D == booking_date, =Ob&D"
   ]
  },
  {
   "cell_type": "markdown",
   "metadata": {},
   "source": [
    "### reset para borrar lo que hemos hecho y dejar memoria limpia"
   ]
  },
  {
   "cell_type": "code",
   "execution_count": 12,
   "metadata": {
    "collapsed": false,
    "scrolled": false
   },
   "outputs": [
    {
     "name": "stdout",
     "output_type": "stream",
     "text": [
      "Once deleted, variables cannot be recovered. Proceed (y/[n])? y\n"
     ]
    }
   ],
   "source": [
    "%reset"
   ]
  },
  {
   "cell_type": "code",
   "execution_count": 13,
   "metadata": {
    "collapsed": true
   },
   "outputs": [],
   "source": [
    "import pandas as pd\n"
   ]
  },
  {
   "cell_type": "code",
   "execution_count": null,
   "metadata": {
    "collapsed": true
   },
   "outputs": [],
   "source": []
  },
  {
   "cell_type": "code",
   "execution_count": 14,
   "metadata": {
    "collapsed": true
   },
   "outputs": [],
   "source": [
    "b=pd.read_csv ('bookings.no_dup.csv.bz2', sep = '^', nrows=100)"
   ]
  },
  {
   "cell_type": "code",
   "execution_count": 15,
   "metadata": {
    "collapsed": false,
    "scrolled": true
   },
   "outputs": [
    {
     "data": {
      "text/plain": [
       "['act_date           ',\n",
       " 'source',\n",
       " 'pos_ctry',\n",
       " 'pos_iata',\n",
       " 'pos_oid  ',\n",
       " 'rloc          ',\n",
       " 'cre_date           ',\n",
       " 'duration',\n",
       " 'distance',\n",
       " 'dep_port',\n",
       " 'dep_city',\n",
       " 'dep_ctry',\n",
       " 'arr_port',\n",
       " 'arr_city',\n",
       " 'arr_ctry',\n",
       " 'lst_port',\n",
       " 'lst_city',\n",
       " 'lst_ctry',\n",
       " 'brd_port',\n",
       " 'brd_city',\n",
       " 'brd_ctry',\n",
       " 'off_port',\n",
       " 'off_city',\n",
       " 'off_ctry',\n",
       " 'mkt_port',\n",
       " 'mkt_city',\n",
       " 'mkt_ctry',\n",
       " 'intl',\n",
       " 'route          ',\n",
       " 'carrier',\n",
       " 'bkg_class',\n",
       " 'cab_class',\n",
       " 'brd_time           ',\n",
       " 'off_time           ',\n",
       " 'pax',\n",
       " 'year',\n",
       " 'month',\n",
       " 'oid      ']"
      ]
     },
     "execution_count": 15,
     "metadata": {},
     "output_type": "execute_result"
    }
   ],
   "source": [
    "b.columns.tolist()"
   ]
  },
  {
   "cell_type": "code",
   "execution_count": 16,
   "metadata": {
    "collapsed": true
   },
   "outputs": [],
   "source": [
    "b=pd.read_csv ('bookings.no_dup.csv.bz2', sep = '^',\\\n",
    "               usecols = ['act_date           ', 'dep_port', 'arr_port']) "
   ]
  },
  {
   "cell_type": "code",
   "execution_count": 17,
   "metadata": {
    "collapsed": true
   },
   "outputs": [],
   "source": [
    "s=pd.read_csv ('searches.no_dup.csv.bz2', sep = '^',\\\n",
    "               usecols = ['Date', 'Origin', 'Destination']) "
   ]
  },
  {
   "cell_type": "markdown",
   "metadata": {},
   "source": [
    "### vemos cómo están los datos en los frames para ver si podemos hacer el merge, problema de espacios"
   ]
  },
  {
   "cell_type": "markdown",
   "metadata": {},
   "source": [
    "#### lo solucionamos con strip en 'arr_port' y 'dep_port'"
   ]
  },
  {
   "cell_type": "code",
   "execution_count": 20,
   "metadata": {
    "collapsed": false,
    "scrolled": false
   },
   "outputs": [
    {
     "data": {
      "text/plain": [
       "['2013-03-05 00:00:00', 'ZRH     ', 'LHR     ']"
      ]
     },
     "execution_count": 20,
     "metadata": {},
     "output_type": "execute_result"
    }
   ],
   "source": [
    "b.iloc[0].tolist()"
   ]
  },
  {
   "cell_type": "code",
   "execution_count": 21,
   "metadata": {
    "collapsed": false,
    "scrolled": true
   },
   "outputs": [
    {
     "data": {
      "text/plain": [
       "['2013-01-01', 'TXL', 'AUH']"
      ]
     },
     "execution_count": 21,
     "metadata": {},
     "output_type": "execute_result"
    }
   ],
   "source": [
    "s.iloc[0].tolist()"
   ]
  },
  {
   "cell_type": "code",
   "execution_count": 23,
   "metadata": {
    "collapsed": false
   },
   "outputs": [
    {
     "data": {
      "text/plain": [
       "'LHR'"
      ]
     },
     "execution_count": 23,
     "metadata": {},
     "output_type": "execute_result"
    }
   ],
   "source": [
    "b.iloc[0]['arr_port'].strip()"
   ]
  },
  {
   "cell_type": "markdown",
   "metadata": {},
   "source": [
    "### forma alternativa a la de abajo:\n",
    "b['arr_port'] = b ['arr_port'].str.strip()"
   ]
  },
  {
   "cell_type": "code",
   "execution_count": 24,
   "metadata": {
    "collapsed": true
   },
   "outputs": [],
   "source": [
    "b['arr_port'] = b ['arr_port'].map(lambda x: str(x).strip())"
   ]
  },
  {
   "cell_type": "code",
   "execution_count": 25,
   "metadata": {
    "collapsed": true
   },
   "outputs": [],
   "source": [
    "b['dep_port'] = b ['dep_port'].map(lambda x: str(x).strip())"
   ]
  },
  {
   "cell_type": "code",
   "execution_count": 26,
   "metadata": {
    "collapsed": false,
    "scrolled": true
   },
   "outputs": [
    {
     "data": {
      "text/plain": [
       "['2013-03-05 00:00:00', 'ZRH', 'LHR']"
      ]
     },
     "execution_count": 26,
     "metadata": {},
     "output_type": "execute_result"
    }
   ],
   "source": [
    "b.iloc[0].tolist()"
   ]
  },
  {
   "cell_type": "markdown",
   "metadata": {},
   "source": [
    "### con el siguiente paso se quitan los espacios de todas las columnas"
   ]
  },
  {
   "cell_type": "code",
   "execution_count": 27,
   "metadata": {
    "collapsed": true
   },
   "outputs": [],
   "source": [
    "b.columns=b.columns.str.strip()"
   ]
  },
  {
   "cell_type": "code",
   "execution_count": 28,
   "metadata": {
    "collapsed": false,
    "scrolled": true
   },
   "outputs": [
    {
     "data": {
      "text/plain": [
       "['act_date', 'dep_port', 'arr_port']"
      ]
     },
     "execution_count": 28,
     "metadata": {},
     "output_type": "execute_result"
    }
   ],
   "source": [
    "b.columns.tolist()"
   ]
  },
  {
   "cell_type": "code",
   "execution_count": 29,
   "metadata": {
    "collapsed": true
   },
   "outputs": [],
   "source": [
    "b['act_date']=b['act_date'].str[0:10]"
   ]
  },
  {
   "cell_type": "markdown",
   "metadata": {},
   "source": [
    "### ya están preparados para hacer el join"
   ]
  },
  {
   "cell_type": "code",
   "execution_count": null,
   "metadata": {
    "collapsed": true
   },
   "outputs": [],
   "source": []
  },
  {
   "cell_type": "code",
   "execution_count": 30,
   "metadata": {
    "collapsed": false
   },
   "outputs": [
    {
     "data": {
      "text/plain": [
       "['2013-03-05', 'ZRH', 'LHR']"
      ]
     },
     "execution_count": 30,
     "metadata": {},
     "output_type": "execute_result"
    }
   ],
   "source": [
    "b.iloc[0].tolist()"
   ]
  },
  {
   "cell_type": "code",
   "execution_count": 31,
   "metadata": {
    "collapsed": false,
    "scrolled": true
   },
   "outputs": [
    {
     "data": {
      "text/plain": [
       "['2013-01-01', 'TXL', 'AUH']"
      ]
     },
     "execution_count": 31,
     "metadata": {},
     "output_type": "execute_result"
    }
   ],
   "source": [
    "s.iloc[0].tolist()"
   ]
  },
  {
   "cell_type": "code",
   "execution_count": 32,
   "metadata": {
    "collapsed": false,
    "scrolled": false
   },
   "outputs": [
    {
     "name": "stdout",
     "output_type": "stream",
     "text": [
      "before drop b=1299993, s=718003\n",
      "after drop b=1299993, s=718002\n"
     ]
    }
   ],
   "source": [
    "b=pd.read_csv ('bookings.no_dup.csv.bz2', sep = '^',\\\n",
    "               usecols = ['act_date           ', 'dep_port', 'arr_port']) \n",
    "\n",
    "s=pd.read_csv ('searches.no_dup.csv.bz2', sep = '^',\\\n",
    "               usecols = ['Date', 'Origin', 'Destination']) \n",
    "b['arr_port'] = b ['arr_port'].str.strip()\n",
    "b['dep_port'] = b ['dep_port'].str.strip()\n",
    "b.columns=b.columns.str.strip()\n",
    "b['act_date']=b['act_date'].str[0:10]\n",
    "\n",
    "print \"before drop b=%d, s=%d\" % (len(b), len(s))\n",
    "b=b.dropna()\n",
    "s=s.dropna()\n",
    "print \"after drop b=%d, s=%d\" % (len(b), len(s))\n"
   ]
  },
  {
   "cell_type": "markdown",
   "metadata": {},
   "source": [
    "### puede haber duplicados porque el drop duplicate lo hicimos sobre el registro completo y al haber seleccionado estas columnas debemos comprobar. hacemos groupby"
   ]
  },
  {
   "cell_type": "code",
   "execution_count": 37,
   "metadata": {
    "collapsed": false
   },
   "outputs": [],
   "source": [
    "b_gr = b.reset_index().groupby(['dep_port', 'arr_port', 'act_date']).count().reset_index()"
   ]
  },
  {
   "cell_type": "code",
   "execution_count": 38,
   "metadata": {
    "collapsed": false,
    "scrolled": true
   },
   "outputs": [
    {
     "data": {
      "text/html": [
       "<div>\n",
       "<table border=\"1\" class=\"dataframe\">\n",
       "  <thead>\n",
       "    <tr style=\"text-align: right;\">\n",
       "      <th></th>\n",
       "      <th>dep_port</th>\n",
       "      <th>arr_port</th>\n",
       "      <th>act_date</th>\n",
       "      <th>index</th>\n",
       "    </tr>\n",
       "  </thead>\n",
       "  <tbody>\n",
       "    <tr>\n",
       "      <th>0</th>\n",
       "      <td>AAB</td>\n",
       "      <td>ROV</td>\n",
       "      <td>2013-05-29</td>\n",
       "      <td>2</td>\n",
       "    </tr>\n",
       "    <tr>\n",
       "      <th>1</th>\n",
       "      <td>AAB</td>\n",
       "      <td>ROV</td>\n",
       "      <td>2013-08-24</td>\n",
       "      <td>2</td>\n",
       "    </tr>\n",
       "    <tr>\n",
       "      <th>2</th>\n",
       "      <td>AAE</td>\n",
       "      <td>ALG</td>\n",
       "      <td>2013-01-07</td>\n",
       "      <td>1</td>\n",
       "    </tr>\n",
       "    <tr>\n",
       "      <th>3</th>\n",
       "      <td>AAE</td>\n",
       "      <td>ALG</td>\n",
       "      <td>2013-01-08</td>\n",
       "      <td>2</td>\n",
       "    </tr>\n",
       "    <tr>\n",
       "      <th>4</th>\n",
       "      <td>AAE</td>\n",
       "      <td>ALG</td>\n",
       "      <td>2013-01-09</td>\n",
       "      <td>6</td>\n",
       "    </tr>\n",
       "  </tbody>\n",
       "</table>\n",
       "</div>"
      ],
      "text/plain": [
       "  dep_port arr_port    act_date  index\n",
       "0      AAB      ROV  2013-05-29      2\n",
       "1      AAB      ROV  2013-08-24      2\n",
       "2      AAE      ALG  2013-01-07      1\n",
       "3      AAE      ALG  2013-01-08      2\n",
       "4      AAE      ALG  2013-01-09      6"
      ]
     },
     "execution_count": 38,
     "metadata": {},
     "output_type": "execute_result"
    }
   ],
   "source": [
    "b_gr.head()"
   ]
  },
  {
   "cell_type": "code",
   "execution_count": 40,
   "metadata": {
    "collapsed": false
   },
   "outputs": [],
   "source": [
    "s_with_index= s.reset_index()"
   ]
  },
  {
   "cell_type": "code",
   "execution_count": 41,
   "metadata": {
    "collapsed": false,
    "scrolled": true
   },
   "outputs": [
    {
     "data": {
      "text/html": [
       "<div>\n",
       "<table border=\"1\" class=\"dataframe\">\n",
       "  <thead>\n",
       "    <tr style=\"text-align: right;\">\n",
       "      <th></th>\n",
       "      <th>index</th>\n",
       "      <th>Date</th>\n",
       "      <th>Origin</th>\n",
       "      <th>Destination</th>\n",
       "    </tr>\n",
       "  </thead>\n",
       "  <tbody>\n",
       "    <tr>\n",
       "      <th>717997</th>\n",
       "      <td>717998</td>\n",
       "      <td>2013-05-03</td>\n",
       "      <td>CPH</td>\n",
       "      <td>AYT</td>\n",
       "    </tr>\n",
       "    <tr>\n",
       "      <th>717998</th>\n",
       "      <td>717999</td>\n",
       "      <td>2013-05-03</td>\n",
       "      <td>NYC</td>\n",
       "      <td>YTO</td>\n",
       "    </tr>\n",
       "    <tr>\n",
       "      <th>717999</th>\n",
       "      <td>718000</td>\n",
       "      <td>2013-05-03</td>\n",
       "      <td>TRF</td>\n",
       "      <td>TRD</td>\n",
       "    </tr>\n",
       "    <tr>\n",
       "      <th>718000</th>\n",
       "      <td>718001</td>\n",
       "      <td>2013-05-03</td>\n",
       "      <td>IAH</td>\n",
       "      <td>RDU</td>\n",
       "    </tr>\n",
       "    <tr>\n",
       "      <th>718001</th>\n",
       "      <td>718002</td>\n",
       "      <td>2013-10-13</td>\n",
       "      <td>VIE</td>\n",
       "      <td>HA</td>\n",
       "    </tr>\n",
       "  </tbody>\n",
       "</table>\n",
       "</div>"
      ],
      "text/plain": [
       "         index        Date Origin Destination\n",
       "717997  717998  2013-05-03    CPH         AYT\n",
       "717998  717999  2013-05-03    NYC         YTO\n",
       "717999  718000  2013-05-03    TRF         TRD\n",
       "718000  718001  2013-05-03    IAH         RDU\n",
       "718001  718002  2013-10-13    VIE          HA"
      ]
     },
     "execution_count": 41,
     "metadata": {},
     "output_type": "execute_result"
    }
   ],
   "source": [
    "s_with_index.tail()"
   ]
  },
  {
   "cell_type": "markdown",
   "metadata": {},
   "source": [
    "### hacemos merge"
   ]
  },
  {
   "cell_type": "code",
   "execution_count": 42,
   "metadata": {
    "collapsed": true
   },
   "outputs": [],
   "source": [
    "s_with_b = s_with_index.merge(b_gr,\n",
    "                             how='left',\n",
    "                             left_on=['Date', 'Origin', 'Destination'],\n",
    "                             right_on = ['act_date', 'dep_port', 'arr_port'])"
   ]
  },
  {
   "cell_type": "markdown",
   "metadata": {},
   "source": [
    "###  comprobamos len, no hay duplicados porque el tamaño no se ha cambiado. si fueran distintas habría que eliminar duplicados para poder hacer el merge"
   ]
  },
  {
   "cell_type": "code",
   "execution_count": 43,
   "metadata": {
    "collapsed": false
   },
   "outputs": [
    {
     "data": {
      "text/plain": [
       "718002"
      ]
     },
     "execution_count": 43,
     "metadata": {},
     "output_type": "execute_result"
    }
   ],
   "source": [
    "len (s_with_index)"
   ]
  },
  {
   "cell_type": "code",
   "execution_count": 44,
   "metadata": {
    "collapsed": false,
    "scrolled": true
   },
   "outputs": [
    {
     "data": {
      "text/plain": [
       "718002"
      ]
     },
     "execution_count": 44,
     "metadata": {},
     "output_type": "execute_result"
    }
   ],
   "source": [
    "len (s_with_b)"
   ]
  },
  {
   "cell_type": "code",
   "execution_count": 45,
   "metadata": {
    "collapsed": false,
    "scrolled": false
   },
   "outputs": [
    {
     "data": {
      "text/html": [
       "<div>\n",
       "<table border=\"1\" class=\"dataframe\">\n",
       "  <thead>\n",
       "    <tr style=\"text-align: right;\">\n",
       "      <th></th>\n",
       "      <th>index_x</th>\n",
       "      <th>Date</th>\n",
       "      <th>Origin</th>\n",
       "      <th>Destination</th>\n",
       "      <th>dep_port</th>\n",
       "      <th>arr_port</th>\n",
       "      <th>act_date</th>\n",
       "      <th>index_y</th>\n",
       "    </tr>\n",
       "  </thead>\n",
       "  <tbody>\n",
       "    <tr>\n",
       "      <th>0</th>\n",
       "      <td>0</td>\n",
       "      <td>2013-01-01</td>\n",
       "      <td>TXL</td>\n",
       "      <td>AUH</td>\n",
       "      <td>NaN</td>\n",
       "      <td>NaN</td>\n",
       "      <td>NaN</td>\n",
       "      <td>NaN</td>\n",
       "    </tr>\n",
       "    <tr>\n",
       "      <th>1</th>\n",
       "      <td>1</td>\n",
       "      <td>2013-01-01</td>\n",
       "      <td>ATH</td>\n",
       "      <td>MIL</td>\n",
       "      <td>NaN</td>\n",
       "      <td>NaN</td>\n",
       "      <td>NaN</td>\n",
       "      <td>NaN</td>\n",
       "    </tr>\n",
       "    <tr>\n",
       "      <th>2</th>\n",
       "      <td>2</td>\n",
       "      <td>2013-01-01</td>\n",
       "      <td>ICT</td>\n",
       "      <td>SFO</td>\n",
       "      <td>NaN</td>\n",
       "      <td>NaN</td>\n",
       "      <td>NaN</td>\n",
       "      <td>NaN</td>\n",
       "    </tr>\n",
       "    <tr>\n",
       "      <th>3</th>\n",
       "      <td>3</td>\n",
       "      <td>2013-01-01</td>\n",
       "      <td>RNB</td>\n",
       "      <td>ARN</td>\n",
       "      <td>NaN</td>\n",
       "      <td>NaN</td>\n",
       "      <td>NaN</td>\n",
       "      <td>NaN</td>\n",
       "    </tr>\n",
       "    <tr>\n",
       "      <th>4</th>\n",
       "      <td>4</td>\n",
       "      <td>2013-01-01</td>\n",
       "      <td>OSL</td>\n",
       "      <td>MAD</td>\n",
       "      <td>NaN</td>\n",
       "      <td>NaN</td>\n",
       "      <td>NaN</td>\n",
       "      <td>NaN</td>\n",
       "    </tr>\n",
       "  </tbody>\n",
       "</table>\n",
       "</div>"
      ],
      "text/plain": [
       "   index_x        Date Origin Destination dep_port arr_port act_date  index_y\n",
       "0        0  2013-01-01    TXL         AUH      NaN      NaN      NaN      NaN\n",
       "1        1  2013-01-01    ATH         MIL      NaN      NaN      NaN      NaN\n",
       "2        2  2013-01-01    ICT         SFO      NaN      NaN      NaN      NaN\n",
       "3        3  2013-01-01    RNB         ARN      NaN      NaN      NaN      NaN\n",
       "4        4  2013-01-01    OSL         MAD      NaN      NaN      NaN      NaN"
      ]
     },
     "execution_count": 45,
     "metadata": {},
     "output_type": "execute_result"
    }
   ],
   "source": [
    "s_with_b.head()"
   ]
  },
  {
   "cell_type": "code",
   "execution_count": 46,
   "metadata": {
    "collapsed": false,
    "scrolled": true
   },
   "outputs": [
    {
     "data": {
      "text/html": [
       "<div>\n",
       "<table border=\"1\" class=\"dataframe\">\n",
       "  <thead>\n",
       "    <tr style=\"text-align: right;\">\n",
       "      <th></th>\n",
       "      <th>index_x</th>\n",
       "      <th>Date</th>\n",
       "      <th>Origin</th>\n",
       "      <th>Destination</th>\n",
       "      <th>dep_port</th>\n",
       "      <th>arr_port</th>\n",
       "      <th>act_date</th>\n",
       "      <th>index_y</th>\n",
       "    </tr>\n",
       "  </thead>\n",
       "  <tbody>\n",
       "    <tr>\n",
       "      <th>23</th>\n",
       "      <td>23</td>\n",
       "      <td>2013-01-01</td>\n",
       "      <td>DUS</td>\n",
       "      <td>IST</td>\n",
       "      <td>DUS</td>\n",
       "      <td>IST</td>\n",
       "      <td>2013-01-01</td>\n",
       "      <td>1.0</td>\n",
       "    </tr>\n",
       "    <tr>\n",
       "      <th>27</th>\n",
       "      <td>27</td>\n",
       "      <td>2013-01-01</td>\n",
       "      <td>RUH</td>\n",
       "      <td>JED</td>\n",
       "      <td>RUH</td>\n",
       "      <td>JED</td>\n",
       "      <td>2013-01-01</td>\n",
       "      <td>17.0</td>\n",
       "    </tr>\n",
       "    <tr>\n",
       "      <th>40</th>\n",
       "      <td>40</td>\n",
       "      <td>2013-01-01</td>\n",
       "      <td>DMM</td>\n",
       "      <td>MNL</td>\n",
       "      <td>DMM</td>\n",
       "      <td>MNL</td>\n",
       "      <td>2013-01-01</td>\n",
       "      <td>1.0</td>\n",
       "    </tr>\n",
       "    <tr>\n",
       "      <th>59</th>\n",
       "      <td>59</td>\n",
       "      <td>2013-01-01</td>\n",
       "      <td>ATL</td>\n",
       "      <td>MIA</td>\n",
       "      <td>ATL</td>\n",
       "      <td>MIA</td>\n",
       "      <td>2013-01-01</td>\n",
       "      <td>4.0</td>\n",
       "    </tr>\n",
       "    <tr>\n",
       "      <th>94</th>\n",
       "      <td>94</td>\n",
       "      <td>2013-01-01</td>\n",
       "      <td>DXB</td>\n",
       "      <td>KUL</td>\n",
       "      <td>DXB</td>\n",
       "      <td>KUL</td>\n",
       "      <td>2013-01-01</td>\n",
       "      <td>1.0</td>\n",
       "    </tr>\n",
       "  </tbody>\n",
       "</table>\n",
       "</div>"
      ],
      "text/plain": [
       "    index_x        Date Origin Destination dep_port arr_port    act_date  \\\n",
       "23       23  2013-01-01    DUS         IST      DUS      IST  2013-01-01   \n",
       "27       27  2013-01-01    RUH         JED      RUH      JED  2013-01-01   \n",
       "40       40  2013-01-01    DMM         MNL      DMM      MNL  2013-01-01   \n",
       "59       59  2013-01-01    ATL         MIA      ATL      MIA  2013-01-01   \n",
       "94       94  2013-01-01    DXB         KUL      DXB      KUL  2013-01-01   \n",
       "\n",
       "    index_y  \n",
       "23      1.0  \n",
       "27     17.0  \n",
       "40      1.0  \n",
       "59      4.0  \n",
       "94      1.0  "
      ]
     },
     "execution_count": 46,
     "metadata": {},
     "output_type": "execute_result"
    }
   ],
   "source": [
    "s_with_b[s_with_b['index_y']>0].head()"
   ]
  },
  {
   "cell_type": "code",
   "execution_count": 47,
   "metadata": {
    "collapsed": true
   },
   "outputs": [],
   "source": [
    "s_file=pd.read_csv ('searches.no_dup.csv.bz2', sep = '^', low_memory=False)"
   ]
  },
  {
   "cell_type": "code",
   "execution_count": 48,
   "metadata": {
    "collapsed": true
   },
   "outputs": [],
   "source": [
    "result=s_file.merge(s_with_b,\n",
    "                   how='left',\n",
    "                   left_index =True,\n",
    "                   right_on ='index_x')"
   ]
  },
  {
   "cell_type": "code",
   "execution_count": 49,
   "metadata": {
    "collapsed": false,
    "scrolled": true
   },
   "outputs": [
    {
     "data": {
      "text/html": [
       "<div>\n",
       "<table border=\"1\" class=\"dataframe\">\n",
       "  <thead>\n",
       "    <tr style=\"text-align: right;\">\n",
       "      <th></th>\n",
       "      <th>Date_x</th>\n",
       "      <th>Time</th>\n",
       "      <th>TxnCode</th>\n",
       "      <th>OfficeID</th>\n",
       "      <th>Country</th>\n",
       "      <th>Origin_x</th>\n",
       "      <th>Destination_x</th>\n",
       "      <th>RoundTrip</th>\n",
       "      <th>NbSegments</th>\n",
       "      <th>Seg1Departure</th>\n",
       "      <th>...</th>\n",
       "      <th>TerminalID</th>\n",
       "      <th>InternetOffice</th>\n",
       "      <th>index_x</th>\n",
       "      <th>Date_y</th>\n",
       "      <th>Origin_y</th>\n",
       "      <th>Destination_y</th>\n",
       "      <th>dep_port</th>\n",
       "      <th>arr_port</th>\n",
       "      <th>act_date</th>\n",
       "      <th>index_y</th>\n",
       "    </tr>\n",
       "  </thead>\n",
       "  <tbody>\n",
       "    <tr>\n",
       "      <th>717997</th>\n",
       "      <td>2013-05-03</td>\n",
       "      <td>10:28:25</td>\n",
       "      <td>MPT</td>\n",
       "      <td>01a4373dc0878961ab038a4089f8d4a7</td>\n",
       "      <td>DK</td>\n",
       "      <td>CPH</td>\n",
       "      <td>AYT</td>\n",
       "      <td>1.0</td>\n",
       "      <td>2.0</td>\n",
       "      <td>CPH</td>\n",
       "      <td>...</td>\n",
       "      <td>d41d8cd98f00b204e9800998ecf8427e</td>\n",
       "      <td>CPH</td>\n",
       "      <td>717998</td>\n",
       "      <td>2013-05-03</td>\n",
       "      <td>CPH</td>\n",
       "      <td>AYT</td>\n",
       "      <td>NaN</td>\n",
       "      <td>NaN</td>\n",
       "      <td>NaN</td>\n",
       "      <td>NaN</td>\n",
       "    </tr>\n",
       "    <tr>\n",
       "      <th>717998</th>\n",
       "      <td>2013-05-03</td>\n",
       "      <td>15:00:52</td>\n",
       "      <td>MPT</td>\n",
       "      <td>4e93208c7efe7d16455c6a887367cdbd</td>\n",
       "      <td>US</td>\n",
       "      <td>NYC</td>\n",
       "      <td>YTO</td>\n",
       "      <td>0.0</td>\n",
       "      <td>1.0</td>\n",
       "      <td>NYC</td>\n",
       "      <td>...</td>\n",
       "      <td>d41d8cd98f00b204e9800998ecf8427e</td>\n",
       "      <td>DCA</td>\n",
       "      <td>717999</td>\n",
       "      <td>2013-05-03</td>\n",
       "      <td>NYC</td>\n",
       "      <td>YTO</td>\n",
       "      <td>NaN</td>\n",
       "      <td>NaN</td>\n",
       "      <td>NaN</td>\n",
       "      <td>NaN</td>\n",
       "    </tr>\n",
       "    <tr>\n",
       "      <th>717999</th>\n",
       "      <td>2013-05-03</td>\n",
       "      <td>00:40:36</td>\n",
       "      <td>FXP</td>\n",
       "      <td>439c0bb10ec8b58c68da567c40399a05</td>\n",
       "      <td>NO</td>\n",
       "      <td>TRF</td>\n",
       "      <td>TRD</td>\n",
       "      <td>0.0</td>\n",
       "      <td>1.0</td>\n",
       "      <td>TRF</td>\n",
       "      <td>...</td>\n",
       "      <td>d41d8cd98f00b204e9800998ecf8427e</td>\n",
       "      <td>OSL</td>\n",
       "      <td>718000</td>\n",
       "      <td>2013-05-03</td>\n",
       "      <td>TRF</td>\n",
       "      <td>TRD</td>\n",
       "      <td>NaN</td>\n",
       "      <td>NaN</td>\n",
       "      <td>NaN</td>\n",
       "      <td>NaN</td>\n",
       "    </tr>\n",
       "    <tr>\n",
       "      <th>718000</th>\n",
       "      <td>2013-05-03</td>\n",
       "      <td>21:10:30</td>\n",
       "      <td>MPT</td>\n",
       "      <td>3561a60621de06ab1badc8ca55699ef3</td>\n",
       "      <td>US</td>\n",
       "      <td>IAH</td>\n",
       "      <td>RDU</td>\n",
       "      <td>1.0</td>\n",
       "      <td>2.0</td>\n",
       "      <td>IAH</td>\n",
       "      <td>...</td>\n",
       "      <td>d41d8cd98f00b204e9800998ecf8427e</td>\n",
       "      <td>NYC</td>\n",
       "      <td>718001</td>\n",
       "      <td>2013-05-03</td>\n",
       "      <td>IAH</td>\n",
       "      <td>RDU</td>\n",
       "      <td>NaN</td>\n",
       "      <td>NaN</td>\n",
       "      <td>NaN</td>\n",
       "      <td>NaN</td>\n",
       "    </tr>\n",
       "    <tr>\n",
       "      <th>718001</th>\n",
       "      <td>2013-10-13</td>\n",
       "      <td>18:57:54</td>\n",
       "      <td>MTP</td>\n",
       "      <td>e41c9d833aa74600552f2ed688b67d81</td>\n",
       "      <td>AT</td>\n",
       "      <td>VIE</td>\n",
       "      <td>HA</td>\n",
       "      <td>NaN</td>\n",
       "      <td>NaN</td>\n",
       "      <td>NaN</td>\n",
       "      <td>...</td>\n",
       "      <td>NaN</td>\n",
       "      <td>NaN</td>\n",
       "      <td>718002</td>\n",
       "      <td>2013-10-13</td>\n",
       "      <td>VIE</td>\n",
       "      <td>HA</td>\n",
       "      <td>NaN</td>\n",
       "      <td>NaN</td>\n",
       "      <td>NaN</td>\n",
       "      <td>NaN</td>\n",
       "    </tr>\n",
       "  </tbody>\n",
       "</table>\n",
       "<p>5 rows × 53 columns</p>\n",
       "</div>"
      ],
      "text/plain": [
       "            Date_x      Time TxnCode                          OfficeID  \\\n",
       "717997  2013-05-03  10:28:25     MPT  01a4373dc0878961ab038a4089f8d4a7   \n",
       "717998  2013-05-03  15:00:52     MPT  4e93208c7efe7d16455c6a887367cdbd   \n",
       "717999  2013-05-03  00:40:36     FXP  439c0bb10ec8b58c68da567c40399a05   \n",
       "718000  2013-05-03  21:10:30     MPT  3561a60621de06ab1badc8ca55699ef3   \n",
       "718001  2013-10-13  18:57:54     MTP  e41c9d833aa74600552f2ed688b67d81   \n",
       "\n",
       "       Country Origin_x Destination_x  RoundTrip  NbSegments Seg1Departure  \\\n",
       "717997      DK      CPH           AYT        1.0         2.0           CPH   \n",
       "717998      US      NYC           YTO        0.0         1.0           NYC   \n",
       "717999      NO      TRF           TRD        0.0         1.0           TRF   \n",
       "718000      US      IAH           RDU        1.0         2.0           IAH   \n",
       "718001      AT      VIE            HA        NaN         NaN           NaN   \n",
       "\n",
       "         ...                          TerminalID InternetOffice index_x  \\\n",
       "717997   ...    d41d8cd98f00b204e9800998ecf8427e            CPH  717998   \n",
       "717998   ...    d41d8cd98f00b204e9800998ecf8427e            DCA  717999   \n",
       "717999   ...    d41d8cd98f00b204e9800998ecf8427e            OSL  718000   \n",
       "718000   ...    d41d8cd98f00b204e9800998ecf8427e            NYC  718001   \n",
       "718001   ...                                 NaN            NaN  718002   \n",
       "\n",
       "            Date_y Origin_y Destination_y dep_port arr_port act_date index_y  \n",
       "717997  2013-05-03      CPH           AYT      NaN      NaN      NaN     NaN  \n",
       "717998  2013-05-03      NYC           YTO      NaN      NaN      NaN     NaN  \n",
       "717999  2013-05-03      TRF           TRD      NaN      NaN      NaN     NaN  \n",
       "718000  2013-05-03      IAH           RDU      NaN      NaN      NaN     NaN  \n",
       "718001  2013-10-13      VIE            HA      NaN      NaN      NaN     NaN  \n",
       "\n",
       "[5 rows x 53 columns]"
      ]
     },
     "execution_count": 49,
     "metadata": {},
     "output_type": "execute_result"
    }
   ],
   "source": [
    "result.tail()"
   ]
  },
  {
   "cell_type": "code",
   "execution_count": 50,
   "metadata": {
    "collapsed": true
   },
   "outputs": [],
   "source": [
    "result['Booked']= result ['index_y'].fillna(0).map(lambda x:1 if x>0 else 0)"
   ]
  },
  {
   "cell_type": "code",
   "execution_count": 51,
   "metadata": {
    "collapsed": false,
    "scrolled": true
   },
   "outputs": [
    {
     "data": {
      "text/html": [
       "<div>\n",
       "<table border=\"1\" class=\"dataframe\">\n",
       "  <thead>\n",
       "    <tr style=\"text-align: right;\">\n",
       "      <th></th>\n",
       "      <th>Date_x</th>\n",
       "      <th>Time</th>\n",
       "      <th>TxnCode</th>\n",
       "      <th>OfficeID</th>\n",
       "      <th>Country</th>\n",
       "      <th>Origin_x</th>\n",
       "      <th>Destination_x</th>\n",
       "      <th>RoundTrip</th>\n",
       "      <th>NbSegments</th>\n",
       "      <th>Seg1Departure</th>\n",
       "      <th>...</th>\n",
       "      <th>InternetOffice</th>\n",
       "      <th>index_x</th>\n",
       "      <th>Date_y</th>\n",
       "      <th>Origin_y</th>\n",
       "      <th>Destination_y</th>\n",
       "      <th>dep_port</th>\n",
       "      <th>arr_port</th>\n",
       "      <th>act_date</th>\n",
       "      <th>index_y</th>\n",
       "      <th>Booked</th>\n",
       "    </tr>\n",
       "  </thead>\n",
       "  <tbody>\n",
       "    <tr>\n",
       "      <th>510739</th>\n",
       "      <td>2013-10-02</td>\n",
       "      <td>13:15:35</td>\n",
       "      <td>FCP</td>\n",
       "      <td>8d2a1e767a6c0231e998716660848886</td>\n",
       "      <td>CA</td>\n",
       "      <td>YYZ</td>\n",
       "      <td>YWG</td>\n",
       "      <td>0.0</td>\n",
       "      <td>1.0</td>\n",
       "      <td>YYZ</td>\n",
       "      <td>...</td>\n",
       "      <td>0</td>\n",
       "      <td>510739</td>\n",
       "      <td>2013-10-02</td>\n",
       "      <td>YYZ</td>\n",
       "      <td>YWG</td>\n",
       "      <td>NaN</td>\n",
       "      <td>NaN</td>\n",
       "      <td>NaN</td>\n",
       "      <td>NaN</td>\n",
       "      <td>0</td>\n",
       "    </tr>\n",
       "    <tr>\n",
       "      <th>526431</th>\n",
       "      <td>2013-10-18</td>\n",
       "      <td>11:39:35</td>\n",
       "      <td>MPT</td>\n",
       "      <td>bb987c07ddab11ce0667eeaef6ef0901</td>\n",
       "      <td>US</td>\n",
       "      <td>NYC</td>\n",
       "      <td>TPE</td>\n",
       "      <td>1.0</td>\n",
       "      <td>2.0</td>\n",
       "      <td>NYC</td>\n",
       "      <td>...</td>\n",
       "      <td>0</td>\n",
       "      <td>526431</td>\n",
       "      <td>2013-10-18</td>\n",
       "      <td>NYC</td>\n",
       "      <td>TPE</td>\n",
       "      <td>NaN</td>\n",
       "      <td>NaN</td>\n",
       "      <td>NaN</td>\n",
       "      <td>NaN</td>\n",
       "      <td>0</td>\n",
       "    </tr>\n",
       "    <tr>\n",
       "      <th>454985</th>\n",
       "      <td>2013-08-07</td>\n",
       "      <td>00:43:16</td>\n",
       "      <td>MPT</td>\n",
       "      <td>9aa4c769608174fd5561f314ae59221c</td>\n",
       "      <td>SE</td>\n",
       "      <td>STO</td>\n",
       "      <td>OSL</td>\n",
       "      <td>0.0</td>\n",
       "      <td>1.0</td>\n",
       "      <td>STO</td>\n",
       "      <td>...</td>\n",
       "      <td>0</td>\n",
       "      <td>454985</td>\n",
       "      <td>2013-08-07</td>\n",
       "      <td>STO</td>\n",
       "      <td>OSL</td>\n",
       "      <td>NaN</td>\n",
       "      <td>NaN</td>\n",
       "      <td>NaN</td>\n",
       "      <td>NaN</td>\n",
       "      <td>0</td>\n",
       "    </tr>\n",
       "    <tr>\n",
       "      <th>477859</th>\n",
       "      <td>2013-08-30</td>\n",
       "      <td>16:46:14</td>\n",
       "      <td>FXR</td>\n",
       "      <td>332cb979bed26bea9f1e5a17d9623b11</td>\n",
       "      <td>VE</td>\n",
       "      <td>MAR</td>\n",
       "      <td>MIA</td>\n",
       "      <td>0.0</td>\n",
       "      <td>3.0</td>\n",
       "      <td>MAR</td>\n",
       "      <td>...</td>\n",
       "      <td>0</td>\n",
       "      <td>477859</td>\n",
       "      <td>2013-08-30</td>\n",
       "      <td>MAR</td>\n",
       "      <td>MIA</td>\n",
       "      <td>NaN</td>\n",
       "      <td>NaN</td>\n",
       "      <td>NaN</td>\n",
       "      <td>NaN</td>\n",
       "      <td>0</td>\n",
       "    </tr>\n",
       "    <tr>\n",
       "      <th>151613</th>\n",
       "      <td>2013-06-01</td>\n",
       "      <td>16:15:52</td>\n",
       "      <td>MPT</td>\n",
       "      <td>3561a60621de06ab1badc8ca55699ef3</td>\n",
       "      <td>US</td>\n",
       "      <td>KCH</td>\n",
       "      <td>WUH</td>\n",
       "      <td>1.0</td>\n",
       "      <td>2.0</td>\n",
       "      <td>KCH</td>\n",
       "      <td>...</td>\n",
       "      <td>NYC</td>\n",
       "      <td>151613</td>\n",
       "      <td>2013-06-01</td>\n",
       "      <td>KCH</td>\n",
       "      <td>WUH</td>\n",
       "      <td>NaN</td>\n",
       "      <td>NaN</td>\n",
       "      <td>NaN</td>\n",
       "      <td>NaN</td>\n",
       "      <td>0</td>\n",
       "    </tr>\n",
       "    <tr>\n",
       "      <th>533762</th>\n",
       "      <td>2013-10-25</td>\n",
       "      <td>01:32:32</td>\n",
       "      <td>FQD</td>\n",
       "      <td>71d7e235af48506bc12149d78ffd6a34</td>\n",
       "      <td>US</td>\n",
       "      <td>SAC</td>\n",
       "      <td>SEA</td>\n",
       "      <td>1.0</td>\n",
       "      <td>2.0</td>\n",
       "      <td>SAC</td>\n",
       "      <td>...</td>\n",
       "      <td>0</td>\n",
       "      <td>533762</td>\n",
       "      <td>2013-10-25</td>\n",
       "      <td>SAC</td>\n",
       "      <td>SEA</td>\n",
       "      <td>NaN</td>\n",
       "      <td>NaN</td>\n",
       "      <td>NaN</td>\n",
       "      <td>NaN</td>\n",
       "      <td>0</td>\n",
       "    </tr>\n",
       "    <tr>\n",
       "      <th>445709</th>\n",
       "      <td>2013-07-29</td>\n",
       "      <td>15:07:50</td>\n",
       "      <td>MPT</td>\n",
       "      <td>abad92d5dd1f2cea8748bb2013a92ccb</td>\n",
       "      <td>GB</td>\n",
       "      <td>LGW</td>\n",
       "      <td>AMS</td>\n",
       "      <td>1.0</td>\n",
       "      <td>2.0</td>\n",
       "      <td>LGW</td>\n",
       "      <td>...</td>\n",
       "      <td>LON</td>\n",
       "      <td>445709</td>\n",
       "      <td>2013-07-29</td>\n",
       "      <td>LGW</td>\n",
       "      <td>AMS</td>\n",
       "      <td>NaN</td>\n",
       "      <td>NaN</td>\n",
       "      <td>NaN</td>\n",
       "      <td>NaN</td>\n",
       "      <td>0</td>\n",
       "    </tr>\n",
       "    <tr>\n",
       "      <th>119194</th>\n",
       "      <td>2013-04-30</td>\n",
       "      <td>18:49:46</td>\n",
       "      <td>MPT</td>\n",
       "      <td>d2f79dd4bfe0e15c5a14ce39891d9541</td>\n",
       "      <td>GR</td>\n",
       "      <td>MOW</td>\n",
       "      <td>KIV</td>\n",
       "      <td>1.0</td>\n",
       "      <td>2.0</td>\n",
       "      <td>MOW</td>\n",
       "      <td>...</td>\n",
       "      <td>ATH</td>\n",
       "      <td>119194</td>\n",
       "      <td>2013-04-30</td>\n",
       "      <td>MOW</td>\n",
       "      <td>KIV</td>\n",
       "      <td>NaN</td>\n",
       "      <td>NaN</td>\n",
       "      <td>NaN</td>\n",
       "      <td>NaN</td>\n",
       "      <td>0</td>\n",
       "    </tr>\n",
       "    <tr>\n",
       "      <th>348522</th>\n",
       "      <td>2013-12-15</td>\n",
       "      <td>09:18:32</td>\n",
       "      <td>FXX</td>\n",
       "      <td>e2426576e6f57a7dd75779983d8e50bd</td>\n",
       "      <td>DE</td>\n",
       "      <td>FRA</td>\n",
       "      <td>AUH</td>\n",
       "      <td>1.0</td>\n",
       "      <td>2.0</td>\n",
       "      <td>FRA</td>\n",
       "      <td>...</td>\n",
       "      <td>0</td>\n",
       "      <td>348522</td>\n",
       "      <td>2013-12-15</td>\n",
       "      <td>FRA</td>\n",
       "      <td>AUH</td>\n",
       "      <td>NaN</td>\n",
       "      <td>NaN</td>\n",
       "      <td>NaN</td>\n",
       "      <td>NaN</td>\n",
       "      <td>0</td>\n",
       "    </tr>\n",
       "    <tr>\n",
       "      <th>591781</th>\n",
       "      <td>2013-12-22</td>\n",
       "      <td>11:14:23</td>\n",
       "      <td>FXX</td>\n",
       "      <td>012cb69963e9dd6889901512d4e414f0</td>\n",
       "      <td>MX</td>\n",
       "      <td>MEX</td>\n",
       "      <td>SJO</td>\n",
       "      <td>1.0</td>\n",
       "      <td>4.0</td>\n",
       "      <td>MEX</td>\n",
       "      <td>...</td>\n",
       "      <td>0</td>\n",
       "      <td>591781</td>\n",
       "      <td>2013-12-22</td>\n",
       "      <td>MEX</td>\n",
       "      <td>SJO</td>\n",
       "      <td>NaN</td>\n",
       "      <td>NaN</td>\n",
       "      <td>NaN</td>\n",
       "      <td>NaN</td>\n",
       "      <td>0</td>\n",
       "    </tr>\n",
       "  </tbody>\n",
       "</table>\n",
       "<p>10 rows × 54 columns</p>\n",
       "</div>"
      ],
      "text/plain": [
       "            Date_x      Time TxnCode                          OfficeID  \\\n",
       "510739  2013-10-02  13:15:35     FCP  8d2a1e767a6c0231e998716660848886   \n",
       "526431  2013-10-18  11:39:35     MPT  bb987c07ddab11ce0667eeaef6ef0901   \n",
       "454985  2013-08-07  00:43:16     MPT  9aa4c769608174fd5561f314ae59221c   \n",
       "477859  2013-08-30  16:46:14     FXR  332cb979bed26bea9f1e5a17d9623b11   \n",
       "151613  2013-06-01  16:15:52     MPT  3561a60621de06ab1badc8ca55699ef3   \n",
       "533762  2013-10-25  01:32:32     FQD  71d7e235af48506bc12149d78ffd6a34   \n",
       "445709  2013-07-29  15:07:50     MPT  abad92d5dd1f2cea8748bb2013a92ccb   \n",
       "119194  2013-04-30  18:49:46     MPT  d2f79dd4bfe0e15c5a14ce39891d9541   \n",
       "348522  2013-12-15  09:18:32     FXX  e2426576e6f57a7dd75779983d8e50bd   \n",
       "591781  2013-12-22  11:14:23     FXX  012cb69963e9dd6889901512d4e414f0   \n",
       "\n",
       "       Country Origin_x Destination_x  RoundTrip  NbSegments Seg1Departure  \\\n",
       "510739      CA      YYZ           YWG        0.0         1.0           YYZ   \n",
       "526431      US      NYC           TPE        1.0         2.0           NYC   \n",
       "454985      SE      STO           OSL        0.0         1.0           STO   \n",
       "477859      VE      MAR           MIA        0.0         3.0           MAR   \n",
       "151613      US      KCH           WUH        1.0         2.0           KCH   \n",
       "533762      US      SAC           SEA        1.0         2.0           SAC   \n",
       "445709      GB      LGW           AMS        1.0         2.0           LGW   \n",
       "119194      GR      MOW           KIV        1.0         2.0           MOW   \n",
       "348522      DE      FRA           AUH        1.0         2.0           FRA   \n",
       "591781      MX      MEX           SJO        1.0         4.0           MEX   \n",
       "\n",
       "        ...   InternetOffice index_x      Date_y Origin_y Destination_y  \\\n",
       "510739  ...                0  510739  2013-10-02      YYZ           YWG   \n",
       "526431  ...                0  526431  2013-10-18      NYC           TPE   \n",
       "454985  ...                0  454985  2013-08-07      STO           OSL   \n",
       "477859  ...                0  477859  2013-08-30      MAR           MIA   \n",
       "151613  ...              NYC  151613  2013-06-01      KCH           WUH   \n",
       "533762  ...                0  533762  2013-10-25      SAC           SEA   \n",
       "445709  ...              LON  445709  2013-07-29      LGW           AMS   \n",
       "119194  ...              ATH  119194  2013-04-30      MOW           KIV   \n",
       "348522  ...                0  348522  2013-12-15      FRA           AUH   \n",
       "591781  ...                0  591781  2013-12-22      MEX           SJO   \n",
       "\n",
       "       dep_port arr_port act_date index_y Booked  \n",
       "510739      NaN      NaN      NaN     NaN      0  \n",
       "526431      NaN      NaN      NaN     NaN      0  \n",
       "454985      NaN      NaN      NaN     NaN      0  \n",
       "477859      NaN      NaN      NaN     NaN      0  \n",
       "151613      NaN      NaN      NaN     NaN      0  \n",
       "533762      NaN      NaN      NaN     NaN      0  \n",
       "445709      NaN      NaN      NaN     NaN      0  \n",
       "119194      NaN      NaN      NaN     NaN      0  \n",
       "348522      NaN      NaN      NaN     NaN      0  \n",
       "591781      NaN      NaN      NaN     NaN      0  \n",
       "\n",
       "[10 rows x 54 columns]"
      ]
     },
     "execution_count": 51,
     "metadata": {},
     "output_type": "execute_result"
    }
   ],
   "source": [
    "result.sample(10)"
   ]
  },
  {
   "cell_type": "markdown",
   "metadata": {},
   "source": [
    "### hemos asignado 0 a NaN y 1 cuando ha habido booking.Ahora debemos hacer drop con las columnas que hemos utilizado y dejar la nueva 'Booked'. "
   ]
  }
 ],
 "metadata": {
  "kernelspec": {
   "display_name": "Python 2",
   "language": "python",
   "name": "python2"
  },
  "language_info": {
   "codemirror_mode": {
    "name": "ipython",
    "version": 2
   },
   "file_extension": ".py",
   "mimetype": "text/x-python",
   "name": "python",
   "nbconvert_exporter": "python",
   "pygments_lexer": "ipython2",
   "version": "2.7.13"
  }
 },
 "nbformat": 4,
 "nbformat_minor": 2
}
