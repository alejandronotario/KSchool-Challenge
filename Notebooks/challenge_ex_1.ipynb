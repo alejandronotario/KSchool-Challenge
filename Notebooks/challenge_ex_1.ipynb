
{
 "cells": [
  {
   "cell_type": "markdown",
   "metadata": {
    "deletable": true,
    "editable": true
   },
   "source": [
    "# ejercicio 1\n",
    "opciones:\n",
    "1. command line\n",
    "2. python"
   ]
  },
  {
   "cell_type": "markdown",
   "metadata": {
    "deletable": true,
    "editable": true
   },
   "source": [
    "# 1. command line"
   ]
  },
  {
   "cell_type": "code",
   "execution_count": 2,
   "metadata": {
    "collapsed": false,
    "deletable": true,
    "editable": true
   },
   "outputs": [
    {
     "name": "stdout",
     "output_type": "stream",
     "text": [
      "/home/dsc/Data/challenge\n"
     ]
    }
   ],
   "source": [
    "cd ~/Data/challenge/\n"
   ]
  },
  {
   "cell_type": "code",
   "execution_count": 3,
   "metadata": {
    "collapsed": false,
    "deletable": true,
    "editable": true,
    "scrolled": true
   },
   "outputs": [
    {
     "name": "stdout",
     "output_type": "stream",
     "text": [
      "bookings.csv.bz2  searches.csv.bz2\r\n"
     ]
    }
   ],
   "source": [
    "!ls"
   ]
  },
  {
   "cell_type": "code",
   "execution_count": 4,
   "metadata": {
    "collapsed": false,
    "deletable": true,
    "editable": true,
    "scrolled": true
   },
   "outputs": [
    {
     "name": "stdout",
     "output_type": "stream",
     "text": [
      "\n",
      "bzcat: I/O or other error, bailing out.  Possible reason follows.\n",
      "bzcat: Broken pipe\n",
      "\tInput file = bookings.csv.bz2, output file = (stdout)\n",
      "1000 bookings.sample.csv\n"
     ]
    }
   ],
   "source": [
    "!bzcat bookings.csv.bz2 | head -1000 > bookings.sample.csv\n",
    "!wc -l bookings.sample.csv"
   ]
  },
  {
   "cell_type": "code",
   "execution_count": 5,
   "metadata": {
    "collapsed": true,
    "deletable": true,
    "editable": true
   },
   "outputs": [],
   "source": [
    "!bzip2 -f bookings.sample.csv"
   ]
  },
  {
   "cell_type": "code",
   "execution_count": 6,
   "metadata": {
    "collapsed": false,
    "deletable": true,
    "editable": true
   },
   "outputs": [
    {
     "name": "stdout",
     "output_type": "stream",
     "text": [
      "total 1013896\r\n",
      "-rw-rw-r-- 1 dsc dsc 554970628 Jan  4  2016 bookings.csv.bz2\r\n",
      "-rw-rw-r-- 1 dsc dsc     54834 May 19 17:16 bookings.sample.csv.bz2\r\n",
      "-rw-rw-r-- 1 dsc dsc 483188920 Jan  4  2016 searches.csv.bz2\r\n"
     ]
    }
   ],
   "source": [
    "!ls -l"
   ]
  },
  {
   "cell_type": "code",
   "execution_count": 7,
   "metadata": {
    "collapsed": false,
    "deletable": true,
    "editable": true
   },
   "outputs": [
    {
     "name": "stdout",
     "output_type": "stream",
     "text": [
      "\n",
      "bzcat: I/O or other error, bailing out.  Possible reason follows.\n",
      "bzcat: Broken pipe\n",
      "\tInput file = searches.csv.bz2, output file = (stdout)\n",
      "1000 searches.sample.csv\n"
     ]
    }
   ],
   "source": [
    "!bzcat searches.csv.bz2 | head -1000 > searches.sample.csv\n",
    "!wc -l searches.sample.csv"
   ]
  },
  {
   "cell_type": "code",
   "execution_count": 8,
   "metadata": {
    "collapsed": false,
    "deletable": true,
    "editable": true
   },
   "outputs": [
    {
     "name": "stdout",
     "output_type": "stream",
     "text": [
      "bzip2: Can't open input file bookings.sample.csv: No such file or directory.\r\n"
     ]
    }
   ],
   "source": [
    "!bzip2 -f bookings.sample.csv"
   ]
  },
  {
   "cell_type": "code",
   "execution_count": 9,
   "metadata": {
    "collapsed": false,
    "deletable": true,
    "editable": true,
    "scrolled": true
   },
   "outputs": [
    {
     "name": "stdout",
     "output_type": "stream",
     "text": [
      "total 1014076\r\n",
      "-rw-rw-r-- 1 dsc dsc 554970628 Jan  4  2016 bookings.csv.bz2\r\n",
      "-rw-rw-r-- 1 dsc dsc     54834 May 19 17:16 bookings.sample.csv.bz2\r\n",
      "-rw-rw-r-- 1 dsc dsc 483188920 Jan  4  2016 searches.csv.bz2\r\n",
      "-rw-rw-r-- 1 dsc dsc    181739 May 19 17:19 searches.sample.csv\r\n"
     ]
    }
   ],
   "source": [
    "!ls -l"
   ]
  },
  {
   "cell_type": "markdown",
   "metadata": {
    "deletable": true,
    "editable": true
   },
   "source": [
    "# 2. python"
   ]
  },
  {
   "cell_type": "markdown",
   "metadata": {
    "deletable": true,
    "editable": true
   },
   "source": [
    "# opciones:\n",
    "\n",
    "1. archivos comprimidos\n",
    "2. archivos descomprimidos"
   ]
  },
  {
   "cell_type": "markdown",
   "metadata": {
    "deletable": true,
    "editable": true
   },
   "source": [
    "2.1 python comprimido"
   ]
  },
  {
   "cell_type": "code",
   "execution_count": 10,
   "metadata": {
    "collapsed": true,
    "deletable": true,
    "editable": true
   },
   "outputs": [],
   "source": [
    "import bz2"
   ]
  },
  {
   "cell_type": "code",
   "execution_count": 18,
   "metadata": {
    "collapsed": true,
    "deletable": true,
    "editable": true
   },
   "outputs": [],
   "source": [
    "fileBz2=bz2.BZ2File ('./bookings.sample.csv.bz2')"
   ]
  },
  {
   "cell_type": "code",
   "execution_count": 19,
   "metadata": {
    "collapsed": false,
    "deletable": true,
    "editable": true,
    "scrolled": true
   },
   "outputs": [
    {
     "name": "stdout",
     "output_type": "stream",
     "text": [
      "./bookings.sample.csv.bz2 has 1000 lines\n"
     ]
    }
   ],
   "source": [
    "k = 0\n",
    "for line in fileBz2:\n",
    "    k+=1\n",
    "print \"%s has %d lines\" % (fileBz2.name,k)"
   ]
  },
  {
   "cell_type": "code",
   "execution_count": null,
   "metadata": {
    "collapsed": true,
    "deletable": true,
    "editable": true
   },
   "outputs": [],
   "source": [
    "sample en formato .csv"
   ]
  },
  {
   "cell_type": "code",
   "execution_count": 22,
   "metadata": {
    "collapsed": false,
    "deletable": true,
    "editable": true
   },
   "outputs": [
    {
     "name": "stdout",
     "output_type": "stream",
     "text": [
      "\n",
      "bzcat: I/O or other error, bailing out.  Possible reason follows.\n",
      "bzcat: Broken pipe\n",
      "\tInput file = bookings.csv.bz2, output file = (stdout)\n",
      "\n",
      "bzcat: I/O or other error, bailing out.  Possible reason follows.\n",
      "bzcat: Broken pipe\n",
      "\tInput file = searches.csv.bz2, output file = (stdout)\n"
     ]
    }
   ],
   "source": [
    "!bzcat bookings.csv.bz2 | head -1000 > bookings.sample.csv.csv\n",
    "!bzcat searches.csv.bz2 | head -1000 > searches.sample.csv.csv"
   ]
  },
  {
   "cell_type": "code",
   "execution_count": 23,
   "metadata": {
    "collapsed": false,
    "deletable": true,
    "editable": true,
    "scrolled": false
   },
   "outputs": [
    {
     "name": "stdout",
     "output_type": "stream",
     "text": [
      "total 1015088\r\n",
      "-rw-rw-r-- 1 dsc dsc 554970628 Jan  4  2016 bookings.csv.bz2\r\n",
      "-rw-rw-r-- 1 dsc dsc    425006 May 19 17:40 bookings.sample.csv\r\n",
      "-rw-rw-r-- 1 dsc dsc     54834 May 19 17:16 bookings.sample.csv.bz2\r\n",
      "-rw-rw-r-- 1 dsc dsc    425006 May 19 17:45 bookings.sample.csv.csv\r\n",
      "-rw-rw-r-- 1 dsc dsc 483188920 Jan  4  2016 searches.csv.bz2\r\n",
      "-rw-rw-r-- 1 dsc dsc    181739 May 19 17:40 searches.sample.csv\r\n",
      "-rw-rw-r-- 1 dsc dsc    181739 May 19 17:45 searches.sample.csv.csv\r\n"
     ]
    }
   ],
   "source": [
    "!ls -l\n"
   ]
  },
  {
   "cell_type": "code",
   "execution_count": 24,
   "metadata": {
    "collapsed": false,
    "deletable": true,
    "editable": true
   },
   "outputs": [
    {
     "name": "stdout",
     "output_type": "stream",
     "text": [
      "./bookings.sample.csv.csv has 1000 lines\n"
     ]
    }
   ],
   "source": [
    "fileName = './bookings.sample.csv.csv'\n",
    "fileB = open (fileName)\n",
    "k = 0\n",
    "for lines in fileB:\n",
    "    k+=1\n",
    "print \"%s has %d lines\" % (fileName,k)"
   ]
  },
  {
   "cell_type": "markdown",
   "metadata": {
    "deletable": true,
    "editable": true
   },
   "source": [
    "# comando \"with\" en loop\n",
    "la ventaja es que al trabajar con múltiples ficheros pequeños cuando termina el loop se cierra por lo que no dejas nada atrás, evitando errores"
   ]
  },
  {
   "cell_type": "code",
   "execution_count": 25,
   "metadata": {
    "collapsed": false,
    "deletable": true,
    "editable": true
   },
   "outputs": [
    {
     "name": "stdout",
     "output_type": "stream",
     "text": [
      "./bookings.sample.csv.csv has 10 lines\n"
     ]
    }
   ],
   "source": [
    "fileName = './bookings.sample.csv.csv'\n",
    "with open (fileName) as file_input:\n",
    "    k=0\n",
    "    for lines in file_input:\n",
    "        k+=1\n",
    "        if k==10:\n",
    "            break\n",
    "print \"%s has %d lines\" % (fileName,k)"
   ]
  },
  {
   "cell_type": "code",
   "execution_count": 26,
   "metadata": {
    "collapsed": false,
    "deletable": true,
    "editable": true
   },
   "outputs": [
    {
     "name": "stdout",
     "output_type": "stream",
     "text": [
      "Variable     Type       Data/Info\n",
      "---------------------------------\n",
      "bz2          module     <module 'bz2' from '/home<...>n2.7/lib-dynload/bz2.so'>\n",
      "fileB        file       <open file './bookings.sa<...>de 'r' at 0x7fad3c5541e0>\n",
      "fileBz2      BZ2File    <bz2.BZ2File object at 0x7fad3c50b8b8>\n",
      "fileName     str        ./bookings.sample.csv.csv\n",
      "file_input   file       <closed file './bookings.<...>de 'r' at 0x7fad3c554300>\n",
      "k            int        10\n",
      "line         str        2013-03-06 00:00:00^1P   <...>1:52^1^2013^3^NULL     \\n\n",
      "lines        str        2013-03-25 00:00:00^1V   <...>5:29^2^2013^3^NULL     \\n\n"
     ]
    }
   ],
   "source": [
    "%whos"
   ]
  },
  {
   "cell_type": "markdown",
   "metadata": {
    "deletable": true,
    "editable": true
   },
   "source": [
    "# try/exception"
   ]
  },
  {
   "cell_type": "code",
   "execution_count": 28,
   "metadata": {
    "collapsed": false,
    "deletable": true,
    "editable": true
   },
   "outputs": [
    {
     "name": "stdout",
     "output_type": "stream",
     "text": [
      "./bookings.sample.csv.csv has 10 lines\n"
     ]
    }
   ],
   "source": [
    "try:\n",
    "    fileName = './bookings.sample.csv.csv'\n",
    "    with open (fileName) as file_input:\n",
    "        k=0\n",
    "        for lines in file_input:\n",
    "            k+=1\n",
    "            if k==10:\n",
    "                break\n",
    "    print \"%s has %d lines\" % (fileName,k)\n",
    "except:\n",
    "    print \"unexpected error\""
   ]
  },
  {
   "cell_type": "markdown",
   "metadata": {
    "deletable": true,
    "editable": true
   },
   "source": [
    "# generamos distintos errores y hacemos que de como unexpected error"
   ]
  },
  {
   "cell_type": "code",
   "execution_count": 29,
   "metadata": {
    "collapsed": false,
    "deletable": true,
    "editable": true
   },
   "outputs": [
    {
     "name": "stdout",
     "output_type": "stream",
     "text": [
      "unexpected error\n"
     ]
    }
   ],
   "source": [
    "try:\n",
    "    fileName = './bookings.saaaample.csv.csv'\n",
    "    with open (fileName) as file_input:\n",
    "        k=0\n",
    "        for lines in file_input:\n",
    "            k+=1\n",
    "            if k==10:\n",
    "                break\n",
    "    print \"%s has %d lines\" % (fileName,k)\n",
    "except:\n",
    "    print \"unexpected error\""
   ]
  },
  {
   "cell_type": "code",
   "execution_count": 30,
   "metadata": {
    "collapsed": false,
    "deletable": true,
    "editable": true
   },
   "outputs": [
    {
     "name": "stdout",
     "output_type": "stream",
     "text": [
      "unexpected error\n"
     ]
    }
   ],
   "source": [
    "try:\n",
    "    fileName = './bookings.sample.csv.csv'\n",
    "    with open (fileName) as file_input:\n",
    "        k=0\n",
    "        k=int('fdggf')\n",
    "        for lines in file_input:\n",
    "            k+=1\n",
    "            if k==10:\n",
    "                break\n",
    "    print \"%s has %d lines\" % (fileName,k)\n",
    "except:\n",
    "    print \"unexpected error\""
   ]
  },
  {
   "cell_type": "markdown",
   "metadata": {
    "deletable": true,
    "editable": true
   },
   "source": [
    "# ahora localizamos los errores y configuramos el output que queremos"
   ]
  },
  {
   "cell_type": "code",
   "execution_count": 31,
   "metadata": {
    "collapsed": false,
    "deletable": true,
    "editable": true,
    "scrolled": true
   },
   "outputs": [
    {
     "name": "stdout",
     "output_type": "stream",
     "text": [
      "./bookings.sample.csv.csv has 10 lines\n"
     ]
    }
   ],
   "source": [
    "try:\n",
    "    fileName = './bookings.sample.csv.csv'\n",
    "    with open (fileName) as file_input:\n",
    "        k=0\n",
    "        for lines in file_input:\n",
    "            k+=1\n",
    "            if k==10:\n",
    "                break\n",
    "    print \"%s has %d lines\" % (fileName,k)\n",
    "except IOError:\n",
    "    print \"File error\"\n",
    "except ValueError:\n",
    "    print \"cannot convert data\"\n",
    "except:\n",
    "    print \"unexpected error\""
   ]
  },
  {
   "cell_type": "code",
   "execution_count": 32,
   "metadata": {
    "collapsed": false,
    "deletable": true,
    "editable": true
   },
   "outputs": [
    {
     "name": "stdout",
     "output_type": "stream",
     "text": [
      "cannot convert data\n"
     ]
    }
   ],
   "source": [
    "try:\n",
    "    fileName = './bookings.sample.csv.csv'\n",
    "    with open (fileName) as file_input:\n",
    "        k=0\n",
    "        k= int ('dfdffd')\n",
    "        for lines in file_input:\n",
    "            k+=1\n",
    "            if k==10:\n",
    "                break\n",
    "    print \"%s has %d lines\" % (fileName,k)\n",
    "except IOError:\n",
    "    print \"File error\"\n",
    "except ValueError:\n",
    "    print \"cannot convert data\"\n",
    "except:\n",
    "    print \"unexpected error\""
   ]
  },
  {
   "cell_type": "markdown",
   "metadata": {
    "deletable": true,
    "editable": true
   },
   "source": [
    "# enumerate devuelve el índice comenzando desde 0"
   ]
  },
  {
   "cell_type": "code",
   "execution_count": 33,
   "metadata": {
    "collapsed": false,
    "deletable": true,
    "editable": true,
    "scrolled": false
   },
   "outputs": [
    {
     "name": "stdout",
     "output_type": "stream",
     "text": [
      "./bookings.sample.csv.csv has 1000 lines\n"
     ]
    }
   ],
   "source": [
    "with open (fileName) as file_input:\n",
    "    for k, line in enumerate (file_input):\n",
    "        pass\n",
    "print \"%s has %d lines\" % (fileName, k+1)"
   ]
  },
  {
   "cell_type": "markdown",
   "metadata": {
    "deletable": true,
    "editable": true
   },
   "source": []
  }
 ],
 "metadata": {
  "kernelspec": {
   "display_name": "Python 2",
   "language": "python",
   "name": "python2"
  },
  "language_info": {
   "codemirror_mode": {
    "name": "ipython",
    "version": 2
   },
   "file_extension": ".py",
   "mimetype": "text/x-python",
   "name": "python",
   "nbconvert_exporter": "python",
   "pygments_lexer": "ipython2",
   "version": "2.7.13"
  }
 },
 "nbformat": 4,
 "nbformat_minor": 2
}
