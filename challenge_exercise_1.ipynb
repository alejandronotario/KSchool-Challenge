{
 "cells": [
  {
   "cell_type": "markdown",
   "metadata": {
    "collapsed": true,
    "deletable": true,
    "editable": true
   },
   "source": [
    "Ejercicio 1\n",
    "primer intento con pandas (muy lento)\n"
   ]
  },
  {
   "cell_type": "code",
   "execution_count": 2,
   "metadata": {
    "collapsed": true,
    "deletable": true,
    "editable": true
   },
   "outputs": [],
   "source": [
    "import pandas as pd\n",
    "import numpy as np\n",
    "import bz2\n"
   ]
  },
  {
   "cell_type": "code",
   "execution_count": 3,
   "metadata": {
    "collapsed": false,
    "deletable": true,
    "editable": true
   },
   "outputs": [
    {
     "name": "stdout",
     "output_type": "stream",
     "text": [
      "act_date           ^source^pos_ctry^pos_iata^pos_oid  ^rloc          ^cre_date           ^duration^distance^dep_port^dep_city^dep_ctry^arr_port^arr_city^arr_ctry^lst_port^lst_city^lst_ctry^brd_port^brd_city^brd_ctry^off_port^off_city^off_ctry^mkt_port^mkt_city^mkt_ctry^intl^route          ^carrier^bkg_class^cab_class^brd_time           ^off_time           ^pax^year^month^oid      \r\n",
      "2013-03-05 00:00:00^1A    ^DE      ^a68dd7ae953c8acfb187a1af2dcbe123^1a11ae49fcbf545fd2afc1a24d88d2b7^ea65900e72d71f4626378e2ebd298267^2013-02-22 00:00:00^1708^0^ZRH     ^ZRH     ^CH      ^LHR     ^LON     ^GB      ^ZRH     ^ZRH     ^CH      ^LHR     ^LON     ^GB      ^ZRH     ^ZRH     ^CH      ^LHRZRH  ^LONZRH  ^CHGB    ^1^LHRZRH         ^VI^T        ^Y        ^2013-03-07 08:50:00^2013-03-07 11:33:37^-1^2013^3^NULL     \r\n",
      "2013-03-26 00:00:00^1A    ^US      ^e612b9eeeee6f17f42d9b0d3b79e75ca^7437560d8f276d6d05eeb806d9e7edee^737295a86982c941f1c2da9a46a14043^2013-03-26 00:00:00^135270^0^SAL     ^SAL     ^SV      ^CLT     ^CLT     ^US      ^SAL     ^SAL     ^SV      ^SAL     ^SAL     ^SV      ^CLT     ^CLT     ^US      ^CLTSAL  ^CLTSAL  ^SVUS    ^1^SALATLCLT      ^NV^L        ^Y        ^2013-04-12 13:04:00^2013-04-12 22:05:40^1^2013^3^NULL     \r\n",
      "2013-03-26 00:00:00^1A    ^US      ^e612b9eeeee6f17f42d9b0d3b79e75ca^7437560d8f276d6d05eeb806d9e7edee^737295a86982c941f1c2da9a46a14043^2013-03-26 00:00:00^135270^0^SAL     ^SAL     ^SV      ^CLT     ^CLT     ^US      ^SAL     ^SAL     ^SV      ^CLT     ^CLT     ^US      ^SAL     ^SAL     ^SV      ^CLTSAL  ^CLTSAL  ^SVUS    ^1^CLTATLSAL      ^NV^U        ^Y        ^2013-07-15 07:00:00^2013-07-15 11:34:51^1^2013^3^NULL     \r\n",
      "2013-03-26 00:00:00^1A    ^AU      ^0f984b3bb6bd06661c95529bbd6193bc^36472c6dbaf7afec9136ac40364e2794^5ecf00fdcbcec761c43dc7285253d0c1^2013-03-26 00:00:00^30885^0^AKL     ^AKL     ^NZ      ^SVO     ^MOW     ^RU      ^AKL     ^AKL     ^NZ      ^AKL     ^AKL     ^NZ      ^SVO     ^MOW     ^RU      ^AKLSVO  ^AKLMOW  ^NZRU    ^1^AKLHKGSVO      ^XK^G        ^Y        ^2013-04-24 23:59:00^2013-04-25 16:06:31^1^2013^3^SYDA82546\r\n",
      "2013-03-26 00:00:00^1A    ^AU      ^0f984b3bb6bd06661c95529bbd6193bc^36472c6dbaf7afec9136ac40364e2794^5ecf00fdcbcec761c43dc7285253d0c1^2013-03-26 00:00:00^30885^0^AKL     ^AKL     ^NZ      ^SVO     ^MOW     ^RU      ^AKL     ^AKL     ^NZ      ^SVO     ^MOW     ^RU      ^AKL     ^AKL     ^NZ      ^AKLSVO  ^AKLMOW  ^NZRU    ^1^SVOHKGAKL      ^XK^G        ^Y        ^2013-05-14 20:15:00^2013-05-16 10:44:50^1^2013^3^SYDA82546\r\n",
      "2013-03-20 00:00:00^1V    ^US      ^0283592e45e392871f7e14b1e22a9aaf^2d0f8e7e1bb792625d2f34f221bc38f1^d54708298686de200f8270e7c637af5e^2013-03-20 00:00:00^5923^0^DEN     ^DEN     ^US      ^LGA     ^NYC     ^US      ^DEN     ^DEN     ^US      ^DEN     ^DEN     ^US      ^LGA     ^NYC     ^US      ^DENLGA  ^DENNYC  ^USUS    ^0^DENLGA         ^FK^W        ^Y        ^2013-04-07 10:23:00^2013-04-07 16:14:24^1^2013^3^NULL     \r\n",
      "2013-03-20 00:00:00^1V    ^US      ^0283592e45e392871f7e14b1e22a9aaf^2d0f8e7e1bb792625d2f34f221bc38f1^d54708298686de200f8270e7c637af5e^2013-03-20 00:00:00^5923^0^DEN     ^DEN     ^US      ^LGA     ^NYC     ^US      ^DEN     ^DEN     ^US      ^LGA     ^NYC     ^US      ^DEN     ^DEN     ^US      ^DENLGA  ^DENNYC  ^USUS    ^0^LGADEN         ^FK^K        ^Y        ^2013-04-11 11:15:00^2013-04-11 13:06:24^1^2013^3^NULL     \r\n",
      "2013-03-25 00:00:00^1V    ^JP      ^5af045902bd23cab579915611d99e1e0^5073861d8597467c33596bfe16f23c56^a37584d1485cb35991e4ff1a2ba92262^2013-03-25 00:00:00^8371^60^NRT     ^TYO     ^JP      ^SIN     ^SIN     ^SG      ^HND     ^TYO     ^JP      ^NRT     ^TYO     ^JP      ^SIN     ^SIN     ^SG      ^NRTSIN  ^SINTYO  ^JPSG    ^1^NRTSIN         ^XR^Q        ^Y        ^2013-04-14 11:05:00^2013-04-14 17:10:56^2^2013^3^NULL     \r\n",
      "2013-03-25 00:00:00^1V    ^JP      ^5af045902bd23cab579915611d99e1e0^5073861d8597467c33596bfe16f23c56^a37584d1485cb35991e4ff1a2ba92262^2013-03-25 00:00:00^8371^60^NRT     ^TYO     ^JP      ^SIN     ^SIN     ^SG      ^HND     ^TYO     ^JP      ^SIN     ^SIN     ^SG      ^PEN     ^PEN     ^MY      ^PENSIN  ^PENSIN  ^MYSG    ^1^SINPEN         ^WS^Y        ^Y        ^2013-04-16 15:45:00^2013-04-16 17:15:29^2^2013^3^NULL     \r\n",
      "\r\n",
      "bzcat: I/O or other error, bailing out.  Possible reason follows.\r\n",
      "bzcat: Broken pipe\r\n",
      "\tInput file = /home/dsc/Data/challenge/bookings.csv.bz2, output file = (stdout)\r\n"
     ]
    }
   ],
   "source": [
    "path_to_bookings = '/home/dsc/Data/challenge/bookings.csv.bz2'\n",
    "path_to_searches = '/home/dsc/Data/challenge/bookings.csv.bz2'\n",
    "!bzcat {path_to_bookings} | head"
   ]
  },
  {
   "cell_type": "code",
   "execution_count": 3,
   "metadata": {
    "collapsed": false,
    "deletable": true,
    "editable": true
   },
   "outputs": [
    {
     "name": "stdout",
     "output_type": "stream",
     "text": [
      "10000011\r\n"
     ]
    }
   ],
   "source": [
    "!bzcat {path_to_bookings} | wc -l"
   ]
  },
  {
   "cell_type": "code",
   "execution_count": 4,
   "metadata": {
    "collapsed": false,
    "deletable": true,
    "editable": true
   },
   "outputs": [
    {
     "name": "stdout",
     "output_type": "stream",
     "text": [
      "10000011\r\n"
     ]
    }
   ],
   "source": [
    "!bzcat {path_to_searches} | wc -l"
   ]
  },
  {
   "cell_type": "code",
   "execution_count": 8,
   "metadata": {
    "collapsed": false,
    "deletable": true,
    "editable": true
   },
   "outputs": [
    {
     "data": {
      "text/html": [
       "<div>\n",
       "<table border=\"1\" class=\"dataframe\">\n",
       "  <thead>\n",
       "    <tr style=\"text-align: right;\">\n",
       "      <th></th>\n",
       "      <th>arr_port</th>\n",
       "      <th>pax</th>\n",
       "      <th>year</th>\n",
       "    </tr>\n",
       "  </thead>\n",
       "  <tbody>\n",
       "    <tr>\n",
       "      <th>4248070</th>\n",
       "      <td>CDG</td>\n",
       "      <td>-2.0</td>\n",
       "      <td>2013.0</td>\n",
       "    </tr>\n",
       "    <tr>\n",
       "      <th>255499</th>\n",
       "      <td>ATH</td>\n",
       "      <td>1.0</td>\n",
       "      <td>2013.0</td>\n",
       "    </tr>\n",
       "    <tr>\n",
       "      <th>6205191</th>\n",
       "      <td>MRS</td>\n",
       "      <td>1.0</td>\n",
       "      <td>2013.0</td>\n",
       "    </tr>\n",
       "    <tr>\n",
       "      <th>6433455</th>\n",
       "      <td>LIM</td>\n",
       "      <td>-4.0</td>\n",
       "      <td>2013.0</td>\n",
       "    </tr>\n",
       "    <tr>\n",
       "      <th>3525868</th>\n",
       "      <td>MAD</td>\n",
       "      <td>2.0</td>\n",
       "      <td>2013.0</td>\n",
       "    </tr>\n",
       "  </tbody>\n",
       "</table>\n",
       "</div>"
      ],
      "text/plain": [
       "         arr_port  pax    year\n",
       "4248070  CDG      -2.0  2013.0\n",
       "255499   ATH       1.0  2013.0\n",
       "6205191  MRS       1.0  2013.0\n",
       "6433455  LIM      -4.0  2013.0\n",
       "3525868  MAD       2.0  2013.0"
      ]
     },
     "execution_count": 8,
     "metadata": {},
     "output_type": "execute_result"
    }
   ],
   "source": [
    "bookings_csv = pd.read_csv (path_to_bookings, sep = '^', compression = 'bz2', usecols = ['arr_port', 'pax', 'year'])\n",
    "bookings_csv = bookings_csv.dropna ()\n",
    "bookings_csv_2013 = bookings_csv [bookings_csv['year'] == 2013]\n",
    "bookings_csv_2013.sample(5)"
   ]
  },
  {
   "cell_type": "code",
   "execution_count": 9,
   "metadata": {
    "collapsed": false,
    "deletable": true,
    "editable": true
   },
   "outputs": [
    {
     "data": {
      "text/plain": [
       "(10000009, 3)"
      ]
     },
     "execution_count": 9,
     "metadata": {},
     "output_type": "execute_result"
    }
   ],
   "source": [
    "bookings_csv_2013.shape"
   ]
  },
  {
   "cell_type": "code",
   "execution_count": 11,
   "metadata": {
    "collapsed": false,
    "deletable": true,
    "editable": true
   },
   "outputs": [
    {
     "data": {
      "text/html": [
       "<div>\n",
       "<table border=\"1\" class=\"dataframe\">\n",
       "  <thead>\n",
       "    <tr style=\"text-align: right;\">\n",
       "      <th></th>\n",
       "      <th>arr_port</th>\n",
       "      <th>pax</th>\n",
       "    </tr>\n",
       "  </thead>\n",
       "  <tbody>\n",
       "    <tr>\n",
       "      <th>9784382</th>\n",
       "      <td>IXB</td>\n",
       "      <td>1.0</td>\n",
       "    </tr>\n",
       "    <tr>\n",
       "      <th>8177067</th>\n",
       "      <td>CCJ</td>\n",
       "      <td>1.0</td>\n",
       "    </tr>\n",
       "    <tr>\n",
       "      <th>7600829</th>\n",
       "      <td>SCL</td>\n",
       "      <td>-1.0</td>\n",
       "    </tr>\n",
       "    <tr>\n",
       "      <th>7980859</th>\n",
       "      <td>CDG</td>\n",
       "      <td>1.0</td>\n",
       "    </tr>\n",
       "    <tr>\n",
       "      <th>1397786</th>\n",
       "      <td>CAN</td>\n",
       "      <td>-1.0</td>\n",
       "    </tr>\n",
       "  </tbody>\n",
       "</table>\n",
       "</div>"
      ],
      "text/plain": [
       "         arr_port  pax\n",
       "9784382  IXB       1.0\n",
       "8177067  CCJ       1.0\n",
       "7600829  SCL      -1.0\n",
       "7980859  CDG       1.0\n",
       "1397786  CAN      -1.0"
      ]
     },
     "execution_count": 11,
     "metadata": {},
     "output_type": "execute_result"
    }
   ],
   "source": [
    "bookings_csv_2013 = bookings_csv_2013.drop ('year', axis=1)\n",
    "bookings_csv_2013.sample(5)"
   ]
  },
  {
   "cell_type": "code",
   "execution_count": 13,
   "metadata": {
    "collapsed": false,
    "deletable": true,
    "editable": true
   },
   "outputs": [
    {
     "name": "stderr",
     "output_type": "stream",
     "text": [
      "/home/dsc/anaconda2/lib/python2.7/site-packages/ipykernel/__main__.py:1: FutureWarning: sort(columns=....) is deprecated, use sort_values(by=.....)\n",
      "  if __name__ == '__main__':\n"
     ]
    },
    {
     "data": {
      "text/html": [
       "<div>\n",
       "<table border=\"1\" class=\"dataframe\">\n",
       "  <thead>\n",
       "    <tr style=\"text-align: right;\">\n",
       "      <th></th>\n",
       "      <th>pax</th>\n",
       "    </tr>\n",
       "    <tr>\n",
       "      <th>arr_port</th>\n",
       "      <th></th>\n",
       "    </tr>\n",
       "  </thead>\n",
       "  <tbody>\n",
       "    <tr>\n",
       "      <th>LHR</th>\n",
       "      <td>88809.0</td>\n",
       "    </tr>\n",
       "    <tr>\n",
       "      <th>MCO</th>\n",
       "      <td>70930.0</td>\n",
       "    </tr>\n",
       "    <tr>\n",
       "      <th>LAX</th>\n",
       "      <td>70530.0</td>\n",
       "    </tr>\n",
       "    <tr>\n",
       "      <th>LAS</th>\n",
       "      <td>69630.0</td>\n",
       "    </tr>\n",
       "    <tr>\n",
       "      <th>JFK</th>\n",
       "      <td>66270.0</td>\n",
       "    </tr>\n",
       "    <tr>\n",
       "      <th>CDG</th>\n",
       "      <td>64490.0</td>\n",
       "    </tr>\n",
       "    <tr>\n",
       "      <th>BKK</th>\n",
       "      <td>59460.0</td>\n",
       "    </tr>\n",
       "    <tr>\n",
       "      <th>MIA</th>\n",
       "      <td>58150.0</td>\n",
       "    </tr>\n",
       "    <tr>\n",
       "      <th>SFO</th>\n",
       "      <td>58000.0</td>\n",
       "    </tr>\n",
       "    <tr>\n",
       "      <th>DXB</th>\n",
       "      <td>55590.0</td>\n",
       "    </tr>\n",
       "  </tbody>\n",
       "</table>\n",
       "</div>"
      ],
      "text/plain": [
       "              pax\n",
       "arr_port         \n",
       "LHR       88809.0\n",
       "MCO       70930.0\n",
       "LAX       70530.0\n",
       "LAS       69630.0\n",
       "JFK       66270.0\n",
       "CDG       64490.0\n",
       "BKK       59460.0\n",
       "MIA       58150.0\n",
       "SFO       58000.0\n",
       "DXB       55590.0"
      ]
     },
     "execution_count": 13,
     "metadata": {},
     "output_type": "execute_result"
    }
   ],
   "source": [
    "bookings_csv_top10 = bookings_csv_2013.groupby ('arr_port').sum().sort(columns = 'pax', ascending = False).head(10)\n",
    "bookings_csv_top10"
   ]
  },
  {
   "cell_type": "code",
   "execution_count": 16,
   "metadata": {
    "collapsed": false,
    "deletable": true,
    "editable": true
   },
   "outputs": [
    {
     "name": "stdout",
     "output_type": "stream",
     "text": [
      "act_date           ^source^pos_ctry^pos_iata^pos_oid  ^rloc          ^cre_date           ^duration^distance^dep_port^dep_city^dep_ctry^arr_port^arr_city^arr_ctry^lst_port^lst_city^lst_ctry^brd_port^brd_city^brd_ctry^off_port^off_city^off_ctry^mkt_port^mkt_city^mkt_ctry^intl^route          ^carrier^bkg_class^cab_class^brd_time           ^off_time           ^pax^year^month^oid      \r\n",
      "2013-03-05 00:00:00^1A    ^DE      ^a68dd7ae953c8acfb187a1af2dcbe123^1a11ae49fcbf545fd2afc1a24d88d2b7^ea65900e72d71f4626378e2ebd298267^2013-02-22 00:00:00^1708^0^ZRH     ^ZRH     ^CH      ^LHR     ^LON     ^GB      ^ZRH     ^ZRH     ^CH      ^LHR     ^LON     ^GB      ^ZRH     ^ZRH     ^CH      ^LHRZRH  ^LONZRH  ^CHGB    ^1^LHRZRH         ^VI^T        ^Y        ^2013-03-07 08:50:00^2013-03-07 11:33:37^-1^2013^3^NULL     \r\n",
      "2013-03-26 00:00:00^1A    ^US      ^e612b9eeeee6f17f42d9b0d3b79e75ca^7437560d8f276d6d05eeb806d9e7edee^737295a86982c941f1c2da9a46a14043^2013-03-26 00:00:00^135270^0^SAL     ^SAL     ^SV      ^CLT     ^CLT     ^US      ^SAL     ^SAL     ^SV      ^SAL     ^SAL     ^SV      ^CLT     ^CLT     ^US      ^CLTSAL  ^CLTSAL  ^SVUS    ^1^SALATLCLT      ^NV^L        ^Y        ^2013-04-12 13:04:00^2013-04-12 22:05:40^1^2013^3^NULL     \r\n",
      "2013-03-26 00:00:00^1A    ^US      ^e612b9eeeee6f17f42d9b0d3b79e75ca^7437560d8f276d6d05eeb806d9e7edee^737295a86982c941f1c2da9a46a14043^2013-03-26 00:00:00^135270^0^SAL     ^SAL     ^SV      ^CLT     ^CLT     ^US      ^SAL     ^SAL     ^SV      ^CLT     ^CLT     ^US      ^SAL     ^SAL     ^SV      ^CLTSAL  ^CLTSAL  ^SVUS    ^1^CLTATLSAL      ^NV^U        ^Y        ^2013-07-15 07:00:00^2013-07-15 11:34:51^1^2013^3^NULL     \r\n",
      "2013-03-26 00:00:00^1A    ^AU      ^0f984b3bb6bd06661c95529bbd6193bc^36472c6dbaf7afec9136ac40364e2794^5ecf00fdcbcec761c43dc7285253d0c1^2013-03-26 00:00:00^30885^0^AKL     ^AKL     ^NZ      ^SVO     ^MOW     ^RU      ^AKL     ^AKL     ^NZ      ^AKL     ^AKL     ^NZ      ^SVO     ^MOW     ^RU      ^AKLSVO  ^AKLMOW  ^NZRU    ^1^AKLHKGSVO      ^XK^G        ^Y        ^2013-04-24 23:59:00^2013-04-25 16:06:31^1^2013^3^SYDA82546\r\n",
      "2013-03-26 00:00:00^1A    ^AU      ^0f984b3bb6bd06661c95529bbd6193bc^36472c6dbaf7afec9136ac40364e2794^5ecf00fdcbcec761c43dc7285253d0c1^2013-03-26 00:00:00^30885^0^AKL     ^AKL     ^NZ      ^SVO     ^MOW     ^RU      ^AKL     ^AKL     ^NZ      ^SVO     ^MOW     ^RU      ^AKL     ^AKL     ^NZ      ^AKLSVO  ^AKLMOW  ^NZRU    ^1^SVOHKGAKL      ^XK^G        ^Y        ^2013-05-14 20:15:00^2013-05-16 10:44:50^1^2013^3^SYDA82546\r\n",
      "2013-03-20 00:00:00^1V    ^US      ^0283592e45e392871f7e14b1e22a9aaf^2d0f8e7e1bb792625d2f34f221bc38f1^d54708298686de200f8270e7c637af5e^2013-03-20 00:00:00^5923^0^DEN     ^DEN     ^US      ^LGA     ^NYC     ^US      ^DEN     ^DEN     ^US      ^DEN     ^DEN     ^US      ^LGA     ^NYC     ^US      ^DENLGA  ^DENNYC  ^USUS    ^0^DENLGA         ^FK^W        ^Y        ^2013-04-07 10:23:00^2013-04-07 16:14:24^1^2013^3^NULL     \r\n",
      "2013-03-20 00:00:00^1V    ^US      ^0283592e45e392871f7e14b1e22a9aaf^2d0f8e7e1bb792625d2f34f221bc38f1^d54708298686de200f8270e7c637af5e^2013-03-20 00:00:00^5923^0^DEN     ^DEN     ^US      ^LGA     ^NYC     ^US      ^DEN     ^DEN     ^US      ^LGA     ^NYC     ^US      ^DEN     ^DEN     ^US      ^DENLGA  ^DENNYC  ^USUS    ^0^LGADEN         ^FK^K        ^Y        ^2013-04-11 11:15:00^2013-04-11 13:06:24^1^2013^3^NULL     \r\n",
      "2013-03-25 00:00:00^1V    ^JP      ^5af045902bd23cab579915611d99e1e0^5073861d8597467c33596bfe16f23c56^a37584d1485cb35991e4ff1a2ba92262^2013-03-25 00:00:00^8371^60^NRT     ^TYO     ^JP      ^SIN     ^SIN     ^SG      ^HND     ^TYO     ^JP      ^NRT     ^TYO     ^JP      ^SIN     ^SIN     ^SG      ^NRTSIN  ^SINTYO  ^JPSG    ^1^NRTSIN         ^XR^Q        ^Y        ^2013-04-14 11:05:00^2013-04-14 17:10:56^2^2013^3^NULL     \r\n",
      "2013-03-25 00:00:00^1V    ^JP      ^5af045902bd23cab579915611d99e1e0^5073861d8597467c33596bfe16f23c56^a37584d1485cb35991e4ff1a2ba92262^2013-03-25 00:00:00^8371^60^NRT     ^TYO     ^JP      ^SIN     ^SIN     ^SG      ^HND     ^TYO     ^JP      ^SIN     ^SIN     ^SG      ^PEN     ^PEN     ^MY      ^PENSIN  ^PENSIN  ^MYSG    ^1^SINPEN         ^WS^Y        ^Y        ^2013-04-16 15:45:00^2013-04-16 17:15:29^2^2013^3^NULL     \r\n",
      "\r\n",
      "bzcat: I/O or other error, bailing out.  Possible reason follows.\r\n",
      "bzcat: Broken pipe\r\n",
      "\tInput file = /home/dsc/Data/challenge/bookings.csv.bz2, output file = (stdout)\r\n"
     ]
    }
   ],
   "source": [
    "!bzcat {path_to_searches} | head\n",
    "\n"
   ]
  },
  {
   "cell_type": "code",
   "execution_count": 17,
   "metadata": {
    "collapsed": false,
    "deletable": true,
    "editable": true
   },
   "outputs": [
    {
     "data": {
      "text/html": [
       "<div>\n",
       "<table border=\"1\" class=\"dataframe\">\n",
       "  <thead>\n",
       "    <tr style=\"text-align: right;\">\n",
       "      <th></th>\n",
       "      <th>arr_city</th>\n",
       "    </tr>\n",
       "  </thead>\n",
       "  <tbody>\n",
       "    <tr>\n",
       "      <th>6143835</th>\n",
       "      <td>HKG</td>\n",
       "    </tr>\n",
       "    <tr>\n",
       "      <th>8108757</th>\n",
       "      <td>DXB</td>\n",
       "    </tr>\n",
       "    <tr>\n",
       "      <th>108217</th>\n",
       "      <td>PAR</td>\n",
       "    </tr>\n",
       "    <tr>\n",
       "      <th>1978443</th>\n",
       "      <td>HOU</td>\n",
       "    </tr>\n",
       "    <tr>\n",
       "      <th>7833602</th>\n",
       "      <td>GVA</td>\n",
       "    </tr>\n",
       "  </tbody>\n",
       "</table>\n",
       "</div>"
      ],
      "text/plain": [
       "         arr_city\n",
       "6143835  HKG     \n",
       "8108757  DXB     \n",
       "108217   PAR     \n",
       "1978443  HOU     \n",
       "7833602  GVA     "
      ]
     },
     "execution_count": 17,
     "metadata": {},
     "output_type": "execute_result"
    }
   ],
   "source": [
    "searches_csv = pd.read_csv (path_to_searches, sep = '^', compression = 'bz2', usecols = ['arr_city'])\n",
    "searches_csv = searches_csv.dropna ()\n",
    "searches_csv.sample(5)"
   ]
  }
 ],
 "metadata": {
  "kernelspec": {
   "display_name": "Python 2",
   "language": "python",
   "name": "python2"
  },
  "language_info": {
   "codemirror_mode": {
    "name": "ipython",
    "version": 2
   },
   "file_extension": ".py",
   "mimetype": "text/x-python",
   "name": "python",
   "nbconvert_exporter": "python",
   "pygments_lexer": "ipython2",
   "version": "2.7.13"
  }
 },
 "nbformat": 4,
 "nbformat_minor": 2
}
